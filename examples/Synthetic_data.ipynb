{
 "cells": [
  {
   "cell_type": "markdown",
   "metadata": {},
   "source": [
    "   # <center> Notebook to synthesise data "
   ]
  },
  {
   "cell_type": "markdown",
   "metadata": {},
   "source": [
    "### This notebook is to help synthetise data using a very simple model (ST- : single temperature)\n",
    "\n",
    "### For more complex model, see: \n",
    "https://xpsi-group.github.io/xpsi/model_construction.html"
   ]
  },
  {
   "cell_type": "markdown",
   "metadata": {},
   "source": [
    "### ------------------------------------------------------------------------------------------------------------------------------------------------------------\n"
   ]
  },
  {
   "cell_type": "markdown",
   "metadata": {},
   "source": [
    "## <center> Importing modules"
   ]
  },
  {
   "cell_type": "code",
   "execution_count": 1,
   "metadata": {},
   "outputs": [
    {
     "name": "stdout",
     "output_type": "stream",
     "text": [
      "/=============================================\\\n",
      "| X-PSI: X-ray Pulse Simulation and Inference |\n",
      "|---------------------------------------------|\n",
      "|               Version: 0.7.12               |\n",
      "|---------------------------------------------|\n",
      "|      https://xpsi-group.github.io/xpsi      |\n",
      "\\=============================================/\n",
      "\n",
      "Imported GetDist version: 0.3.1\n",
      "Imported nestcheck version: 0.2.0\n"
     ]
    }
   ],
   "source": [
    "from __future__ import print_function, division\n",
    "\n",
    "%matplotlib inline\n",
    "\n",
    "import os\n",
    "import numpy as np\n",
    "import math\n",
    "\n",
    "\n",
    "from matplotlib import pyplot as plt\n",
    "from matplotlib import rcParams\n",
    "from matplotlib.offsetbox import AnchoredText\n",
    "from matplotlib.ticker import MultipleLocator, AutoLocator, AutoMinorLocator\n",
    "from matplotlib import gridspec\n",
    "from matplotlib import cm\n",
    "from matplotlib.patches import Rectangle\n",
    "import matplotlib.patches as mpatches\n",
    "\n",
    "\n",
    "import xpsi\n",
    "from xpsi import Parameter,make_verbose\n",
    "from scipy.interpolate import Akima1DInterpolator\n",
    "from xpsi.global_imports import _c, _G, _dpr, gravradius, _csq, _km, _2pi"
   ]
  },
  {
   "cell_type": "markdown",
   "metadata": {},
   "source": [
    "## <center> Creating and instantiating a fake instrument object"
   ]
  },
  {
   "cell_type": "markdown",
   "metadata": {},
   "source": [
    "We create a fake telescope response.\n",
    "\n",
    "This fake instrument has:\n",
    "- Energy range of 0.1-15 keV\n",
    "- A perfect normalized RMF \n",
    "- An effective area of 1800 cm2 for each photon energy bin\n",
    "- Channel edges "
   ]
  },
  {
   "cell_type": "code",
   "execution_count": 2,
   "metadata": {},
   "outputs": [],
   "source": [
    "\n",
    "\n",
    "\n",
    "channel_number=np.arange(0,1501)    # The channel nnumber\n",
    "energy_low=np.arange(0,15.01, 0.01) # Lower bounds of each channel\n",
    "energy_high=energy_low+0.01         # Upper bounds of each channel\n",
    "channel_edges=np.array([list(channel_number),list(energy_low),list(energy_high)]).T\n",
    "\n",
    "# ARF\n",
    "arf_energy_low=[0.1]\n",
    "arf_energy_high=[0.105]\n",
    "arf_val=[1800]\n",
    "\n",
    "counter=1\n",
    "while arf_energy_low[-1]<=14.995:\n",
    "    arf_energy_low.append(arf_energy_low[-1]+0.005)\n",
    "    arf_energy_high.append(arf_energy_high[-1]+0.005)\n",
    "    arf_val.append(1800)\n",
    "    counter +=1\n",
    "\n",
    "\n",
    "ARF=np.array([list(arf_energy_low),\n",
    "              list(arf_energy_high),\n",
    "              list(arf_val)]).T\n",
    "\n",
    "# RMF\n",
    "RMF=np.diag(np.full(counter,1))        "
   ]
  },
  {
   "cell_type": "code",
   "execution_count": 3,
   "metadata": {},
   "outputs": [
    {
     "data": {
      "text/plain": [
       "Text(0,0.5,'Efective area (cm^2)')"
      ]
     },
     "execution_count": 3,
     "metadata": {},
     "output_type": "execute_result"
    },
    {
     "data": {
      "image/png": "[encoded data removed]",
      "text/plain": [
       "<Figure size 1224x360 with 5 Axes>"
      ]
     },
     "metadata": {
      "needs_background": "light"
     },
     "output_type": "display_data"
    }
   ],
   "source": [
    "# Quick plot to show what we have created\n",
    "\n",
    "fig,ax=plt.subplots(1,3,figsize=(17,5))\n",
    "ax[0].plot(ARF[:,0],ARF[:,2])\n",
    "rmf=ax[1].imshow(RMF,origin=\"lower\")#,aspect=\"auto\")\n",
    "rsp=ax[2].imshow(RMF*ARF[:,2],origin=\"lower\")#,extent = [0, 1500, 0, ],aspect=1)\n",
    "\n",
    "plt.colorbar(rmf,ax=ax[1], fraction=0.046, pad=0.05)\n",
    "plt.colorbar(rsp,ax=ax[2],fraction=0.046, pad=0.05, shrink=1)\n",
    "\n",
    "ax[0].set_title('ARF')\n",
    "ax[1].set_title('RMF')\n",
    "ax[2].set_title('RSP')\n",
    "\n",
    "ax[0].set_xlabel(\"Energy (KeV)\")\n",
    "ax[0].set_ylabel(\"Efective area (cm^2)\")"
   ]
  },
  {
   "cell_type": "code",
   "execution_count": 4,
   "metadata": {},
   "outputs": [],
   "source": [
    "# Instrument Class\n",
    "\n",
    "class CustomInstrument(xpsi.Instrument):\n",
    "    \n",
    "    \"\"\" Fake telescope response. \"\"\"\n",
    "    \n",
    "    \n",
    "\n",
    "    def __call__(self, signal, *args):\n",
    "        \"\"\" Overwrite base just to show it is possible.\n",
    "\n",
    "        We loaded only a submatrix of the total instrument response\n",
    "        matrix into memory, so here we can simplify the method in the\n",
    "        base class.\n",
    "\n",
    "        \"\"\"\n",
    "        matrix = self.construct_matrix()\n",
    "\n",
    "        self._folded_signal = np.dot(matrix, signal)\n",
    "\n",
    "        return self._folded_signal\n",
    "\n",
    "    @classmethod\n",
    "    def from_response_files(cls, ARF, RMF, max_input, min_input=0,channel=[1,1500],\n",
    "                            channel_edges=None):\n",
    "        \"\"\" Constructor which converts response files into :class:`numpy.ndarray`s.\n",
    "        :param str ARF: Path to ARF which is compatible with\n",
    "                                :func:`numpy.loadtxt`.\n",
    "        :param str RMF: Path to RMF which is compatible with\n",
    "                                :func:`numpy.loadtxt`.\n",
    "        :param str channel_edges: Optional path to edges which is compatible with\n",
    "                                  :func:`numpy.loadtxt`.\n",
    "        \"\"\"\n",
    "\n",
    "        if min_input != 0:\n",
    "            min_input = int(min_input)\n",
    "\n",
    "        max_input = int(max_input)\n",
    "\n",
    "        matrix = np.ascontiguousarray(RMF[min_input:max_input,channel[0]:channel[1]].T, dtype=np.double)\n",
    "\n",
    "        edges = np.zeros(ARF[min_input:max_input,2].shape[0]+1, dtype=np.double)\n",
    "        \n",
    "        \n",
    "\n",
    "        edges[0] = ARF[min_input,0]; edges[1:] = ARF[min_input:max_input,1]\n",
    "\n",
    "        for i in range(matrix.shape[0]):\n",
    "            matrix[i,:] *= ARF[min_input:max_input,2]\n",
    "    \n",
    "\n",
    "        channels = np.arange(channel[0],channel[1])\n",
    "    \n",
    "\n",
    "        return cls(matrix, edges, channels, channel_edges[channel[0]:channel[1]+1,1])\n"
   ]
  },
  {
   "cell_type": "markdown",
   "metadata": {},
   "source": [
    "###  Because this RSP in ideal and perfectly diagonal:\n",
    "###  then max_input, min_input =channel[1], channel[0]\n"
   ]
  },
  {
   "cell_type": "code",
   "execution_count": 5,
   "metadata": {},
   "outputs": [
    {
     "name": "stdout",
     "output_type": "stream",
     "text": [
      "Setting channels for loaded instrument response (sub)matrix...\n",
      "Channels set.\n",
      "No parameters supplied... empty subspace created.\n"
     ]
    }
   ],
   "source": [
    "Instrument = CustomInstrument.from_response_files(ARF =ARF,\n",
    "                                             RMF = RMF,\n",
    "                                             max_input = 301,\n",
    "                                             min_input = 10,\n",
    "                                             channel=[10,301],\n",
    "                                             channel_edges =channel_edges)"
   ]
  },
  {
   "cell_type": "markdown",
   "metadata": {},
   "source": [
    "# Signal"
   ]
  },
  {
   "cell_type": "code",
   "execution_count": 6,
   "metadata": {},
   "outputs": [],
   "source": [
    "# Nothing very special here\n",
    "\n",
    "import six as _six\n",
    "\n",
    "from xpsi.likelihoods.default_background_marginalisation import eval_marginal_likelihood\n",
    "from xpsi.likelihoods.default_background_marginalisation import precomputation\n",
    "\n",
    "class CustomSignal(xpsi.Signal):\n",
    "    \"\"\" A custom calculation of the logarithm of the NICER likelihood.\n",
    "\n",
    "    We extend the :class:`xpsi.Signal.Signal` class to make it callable.\n",
    "\n",
    "    We overwrite the body of the __call__ method. The docstring for the\n",
    "    abstract method is copied.\n",
    "\n",
    "    \"\"\"\n",
    "\n",
    "    def __init__(self, workspace_intervals = 1000, epsabs = 0, epsrel = 1.0e-8,\n",
    "                 epsilon = 1.0e-3, sigmas = 10.0, support = None, *args, **kwargs):\n",
    "        \"\"\" Perform precomputation. \"\"\"\n",
    "\n",
    "        super(CustomSignal, self).__init__(*args, **kwargs)\n",
    "\n",
    "        try:\n",
    "            self._precomp = precomputation(self._data.counts.astype(np.int32))\n",
    "        except AttributeError:\n",
    "            print('No data... can synthesise data but cannot evaluate a '\n",
    "                  'likelihood function.')\n",
    "        else:\n",
    "            self._workspace_intervals = workspace_intervals\n",
    "            self._epsabs = epsabs\n",
    "            self._epsrel = epsrel\n",
    "            self._epsilon = epsilon\n",
    "            self._sigmas = sigmas\n",
    "\n",
    "            if support is not None:\n",
    "                self._support = support\n",
    "            else:\n",
    "                self._support = -1.0 * np.ones((self._data.counts.shape[0],2))\n",
    "                self._support[:,0] = 0.0\n",
    "\n",
    "    @property\n",
    "    def support(self):\n",
    "        return self._support\n",
    "\n",
    "    @support.setter\n",
    "    def support(self, obj):\n",
    "        self._support = obj\n",
    "\n",
    "    def __call__(self, *args, **kwargs):\n",
    "        self.loglikelihood, self.expected_counts, self.background_signal,self.background_given_support = \\\n",
    "                eval_marginal_likelihood(self._data.exposure_time,\n",
    "                                          self._data.phases,\n",
    "                                          self._data.counts,\n",
    "                                          self._signals,\n",
    "                                          self._phases,\n",
    "                                          self._shifts,\n",
    "                                          self._precomp,\n",
    "                                          self._support,\n",
    "                                          self._workspace_intervals,\n",
    "                                          self._epsabs,\n",
    "                                          self._epsrel,\n",
    "                                          self._epsilon,\n",
    "                                          self._sigmas,\n",
    "                                          kwargs.get('llzero'))\n"
   ]
  },
  {
   "cell_type": "markdown",
   "metadata": {},
   "source": [
    "# Space-time"
   ]
  },
  {
   "cell_type": "code",
   "execution_count": 7,
   "metadata": {},
   "outputs": [
    {
     "name": "stdout",
     "output_type": "stream",
     "text": [
      "Creating parameter:\n",
      "    > Named \"frequency\" with fixed value 3.140e+02.\n",
      "    > Spin frequency [Hz].\n",
      "Creating parameter:\n",
      "    > Named \"mass\" with bounds [1.000e+00, 3.000e+00].\n",
      "    > Gravitational mass [solar masses].\n",
      "Creating parameter:\n",
      "    > Named \"radius\" with bounds [4.430e+00, 1.600e+01].\n",
      "    > Coordinate equatorial radius [km].\n",
      "Creating parameter:\n",
      "    > Named \"distance\" with bounds [1.000e-01, 1.000e+01].\n",
      "    > Earth distance [kpc].\n",
      "Creating parameter:\n",
      "    > Named \"cos_inclination\" with bounds [0.000e+00, 1.000e+00].\n",
      "    > Cosine of Earth inclination to rotation axis.\n"
     ]
    }
   ],
   "source": [
    "bounds = dict(distance = (0.1, 10.0),                       # (Earth) distance\n",
    "                mass = (1.0, 3.0),                          # mass\n",
    "                radius = (3.0 * gravradius(1.0), 16.0),     # equatorial radius\n",
    "                cos_inclination = (0.0, 1.0))               # (Earth) inclination to rotation axis\n",
    "\n",
    "spacetime = xpsi.Spacetime(bounds=bounds, values=dict(frequency=314.0))# Fixing the spin\n"
   ]
  },
  {
   "cell_type": "markdown",
   "metadata": {},
   "source": [
    "# Hot-spot"
   ]
  },
  {
   "cell_type": "markdown",
   "metadata": {},
   "source": [
    "### We will use a single hot-spot. For complex models, see:\n",
    "https://xpsi-group.github.io/xpsi\n",
    "\n"
   ]
  },
  {
   "cell_type": "code",
   "execution_count": 8,
   "metadata": {},
   "outputs": [
    {
     "name": "stdout",
     "output_type": "stream",
     "text": [
      "Creating parameter:\n",
      "    > Named \"super_colatitude\" with bounds [0.000e+00, 3.142e+00].\n",
      "    > The colatitude of the centre of the superseding region [radians].\n",
      "Creating parameter:\n",
      "    > Named \"super_radius\" with bounds [0.000e+00, 1.571e+00].\n",
      "    > The angular radius of the (circular) superseding region [radians].\n",
      "Creating parameter:\n",
      "    > Named \"phase_shift\" with bounds [-2.500e-01, 7.500e-01].\n",
      "    > The phase of the hot region, a periodic parameter [cycles].\n",
      "Creating parameter:\n",
      "    > Named \"super_temperature\" with bounds [3.000e+00, 7.000e+00].\n",
      "    > log10(superseding region effective temperature [K]).\n"
     ]
    }
   ],
   "source": [
    "# Using default hard-coded bounds\n",
    "\n",
    "bounds = dict(super_colatitude = (None, None),\n",
    "              super_radius = (None, None),\n",
    "              phase_shift = (-0.25, 0.75),\n",
    "              super_temperature = (None, None))\n",
    "\n",
    "# a simple circular, simply-connected spot\n",
    "hot_spot = xpsi.HotRegion(bounds=bounds,\n",
    "                            values={}, # no initial values and no derived/fixed\n",
    "                            symmetry=True,\n",
    "                            omit=False,\n",
    "                            cede=False,\n",
    "                            concentric=False,\n",
    "                            sqrt_num_cells=32,\n",
    "                            min_sqrt_num_cells=10,\n",
    "                            max_sqrt_num_cells=64,\n",
    "                            num_leaves=100,\n",
    "                            num_rays=200,\n",
    "                            is_antiphased=True, \n",
    "                            prefix='hot') # unique prefix needed because >1 instance\n"
   ]
  },
  {
   "cell_type": "code",
   "execution_count": null,
   "metadata": {},
   "outputs": [],
   "source": []
  },
  {
   "cell_type": "markdown",
   "metadata": {},
   "source": [
    "# Phostosphere"
   ]
  },
  {
   "cell_type": "markdown",
   "metadata": {},
   "source": [
    "### We will use  here the defaulf black-body emission model. No emission from the rest of the star, all the emission is from the hot-spot"
   ]
  },
  {
   "cell_type": "code",
   "execution_count": 9,
   "metadata": {},
   "outputs": [
    {
     "name": "stdout",
     "output_type": "stream",
     "text": [
      "Creating parameter:\n",
      "    > Named \"mode_frequency\" with fixed value 3.140e+02.\n",
      "    > Coordinate frequency of the mode of radiative asymmetry in the\n",
      "photosphere that is assumed to generate the pulsed signal [Hz].\n"
     ]
    }
   ],
   "source": [
    "class CustomPhotosphere(xpsi.Photosphere):\n",
    "    \"\"\" Implement method for imaging.\"\"\"\n",
    "\n",
    "    @property\n",
    "    def global_variables(self):\n",
    "\n",
    "        return np.array([self['hot__super_colatitude'],\n",
    "                          self['hot__phase_shift'] * _2pi,\n",
    "                          self['hot__super_radius'],\n",
    "                          self['hot__super_temperature']])\n",
    "\n",
    "photosphere = CustomPhotosphere(hot = hot_spot, elsewhere = None,\n",
    "                                values=dict(mode_frequency = spacetime['frequency']))\n",
    "\n"
   ]
  },
  {
   "cell_type": "markdown",
   "metadata": {},
   "source": [
    "# Star"
   ]
  },
  {
   "cell_type": "code",
   "execution_count": 10,
   "metadata": {},
   "outputs": [],
   "source": [
    "# Star object\n",
    "star = xpsi.Star(spacetime = spacetime, photospheres = photosphere)"
   ]
  },
  {
   "cell_type": "markdown",
   "metadata": {},
   "source": [
    "# Prior\n",
    "\n"
   ]
  },
  {
   "cell_type": "markdown",
   "metadata": {},
   "source": [
    "### Simple Prior class, nothing very fancy here"
   ]
  },
  {
   "cell_type": "code",
   "execution_count": 11,
   "metadata": {},
   "outputs": [],
   "source": [
    "\n",
    "\n",
    "class CustomPrior(xpsi.Prior):\n",
    "    \"\"\" A custom (joint) prior distribution.\n",
    "\n",
    "    Source: Fictitious\n",
    "    Model variant: ST-\n",
    "\n",
    "    \"\"\"\n",
    "\n",
    "    __derived_names__ = ['compactness', 'phase_separation',]\n",
    "\n",
    "    def __init__(self):\n",
    "        \"\"\" Nothing to be done.\n",
    "\n",
    "        A direct reference to the spacetime object could be put here\n",
    "        for use in __call__:\n",
    "\n",
    "        .. code-block::\n",
    "\n",
    "            self.spacetime = ref\n",
    "\n",
    "        Instead we get a reference to the spacetime object through the\n",
    "        a reference to a likelihood object which encapsulates a\n",
    "        reference to the spacetime object.\n",
    "\n",
    "        \"\"\"\n",
    "        super(CustomPrior, self).__init__() # not strictly required if no hyperparameters\n",
    "\n",
    "    def __call__(self, p = None):\n",
    "        \"\"\" Evaluate distribution at ``p``.\n",
    "\n",
    "        :param list p: Model parameter values.\n",
    "\n",
    "        :returns: Logarithm of the distribution evaluated at ``p``.\n",
    "\n",
    "        \"\"\"\n",
    "        temp = super(CustomPrior, self).__call__(p)\n",
    "        if not np.isfinite(temp):\n",
    "            return temp\n",
    "\n",
    "        # based on contemporary EOS theory\n",
    "        if not self.parameters['radius'] <= 16.0:\n",
    "            return -np.inf\n",
    "\n",
    "        ref = self.parameters.star.spacetime # shortcut\n",
    "\n",
    "        # Compactness limit\n",
    "        R_p = 1.0 + ref.epsilon * (-0.788 + 1.030 * ref.zeta)\n",
    "        if R_p < 1.76 / ref.R_r_s:\n",
    "            return -np.inf\n",
    "\n",
    "        mu = math.sqrt(-1.0 / (3.0 * ref.epsilon * (-0.788 + 1.030 * ref.zeta)))\n",
    "\n",
    "        # 2-surface cross-section have a single maximum in |z|\n",
    "        # i.e., an elliptical surface; minor effect on support, if any,\n",
    "        # for high spin frequenies\n",
    "        if mu < 1.0:\n",
    "            return -np.inf\n",
    "\n",
    "        ref = self.parameters\n",
    "\n",
    "        return 0.0\n",
    "\n",
    "    def inverse_sample(self, hypercube=None):\n",
    "        \"\"\" Draw sample uniformly from the distribution via inverse sampling. \"\"\"\n",
    "\n",
    "        to_cache = self.parameters.vector\n",
    "\n",
    "        if hypercube is None:\n",
    "            hypercube = np.random.rand(len(self))\n",
    "\n",
    "        # the base method is useful, so to avoid writing that code again:\n",
    "        _ = super(CustomPrior, self).inverse_sample(hypercube)\n",
    "\n",
    "        ref = self.parameters # shortcut\n",
    "\n",
    "        # restore proper cache\n",
    "        for parameter, cache in zip(ref, to_cache):\n",
    "            parameter.cached = cache\n",
    "\n",
    "        # it is important that we return the desired vector because it is\n",
    "        # automatically written to disk by MultiNest and only by MultiNest\n",
    "        return self.parameters.vector\n",
    "\n",
    "    def transform(self, p, **kwargs):\n",
    "        \"\"\" A transformation for post-processing. \"\"\"\n",
    "\n",
    "        p = list(p) # copy\n",
    "\n",
    "        # used ordered names and values\n",
    "        ref = dict(zip(self.parameters.names, p))\n",
    "\n",
    "        # compactness ratio M/R_eq\n",
    "        p += [gravradius(ref['mass']) / ref['radius']]\n",
    "\n",
    "        return p\n"
   ]
  },
  {
   "cell_type": "code",
   "execution_count": 12,
   "metadata": {},
   "outputs": [
    {
     "name": "stdout",
     "output_type": "stream",
     "text": [
      "No parameters supplied... empty subspace created.\n"
     ]
    }
   ],
   "source": [
    "# Prior object\n",
    "prior = CustomPrior()"
   ]
  },
  {
   "cell_type": "markdown",
   "metadata": {},
   "source": [
    "# Background"
   ]
  },
  {
   "cell_type": "markdown",
   "metadata": {},
   "source": [
    " ### Let's add some background photons for fun. Just a powerlaw component"
   ]
  },
  {
   "cell_type": "code",
   "execution_count": 13,
   "metadata": {},
   "outputs": [],
   "source": [
    "class CustomBackground(xpsi.Background):\n",
    "    \"\"\" The background injected to generate synthetic data. \"\"\"\n",
    "\n",
    "    def __init__(self, bounds=None, value=None):\n",
    "\n",
    "        # first the parameters that are fundemental to this class\n",
    "        doc = \"\"\"\n",
    "        Powerlaw spectral index.\n",
    "        \"\"\"\n",
    "        index = xpsi.Parameter('powerlaw_index',\n",
    "                                strict_bounds = (-4.0, -1.01),\n",
    "                                bounds = bounds,\n",
    "                                doc = doc,\n",
    "                                symbol = r'$\\Gamma$',\n",
    "                                value = value)\n",
    "\n",
    "        super(CustomBackground, self).__init__(index)\n",
    "\n",
    "    def __call__(self, energy_edges, phases):\n",
    "        \"\"\" Evaluate the incident background field. \"\"\"\n",
    "\n",
    "        G = self['powerlaw_index']\n",
    "\n",
    "        temp = np.zeros((energy_edges.shape[0] - 1, phases.shape[0]))\n",
    "\n",
    "        temp[:,0] = (energy_edges[1:]**(G + 1.0) - energy_edges[:-1]**(G + 1.0)) / (G + 1.0)\n",
    "\n",
    "        for i in range(phases.shape[0]):\n",
    "            temp[:,i] = temp[:,0]\n",
    "\n",
    "        self._incident_background= temp"
   ]
  },
  {
   "cell_type": "code",
   "execution_count": 14,
   "metadata": {},
   "outputs": [
    {
     "name": "stdout",
     "output_type": "stream",
     "text": [
      "Creating parameter:\n",
      "    > Named \"powerlaw_index\" with bounds [-4.000e+00, -1.010e+00].\n",
      "    > Powerlaw spectral index.\n"
     ]
    }
   ],
   "source": [
    "\n",
    "\n",
    "background = CustomBackground(bounds=(None, None))"
   ]
  },
  {
   "cell_type": "markdown",
   "metadata": {},
   "source": [
    "# Data"
   ]
  },
  {
   "cell_type": "code",
   "execution_count": 15,
   "metadata": {},
   "outputs": [],
   "source": [
    "class SynthesiseData(xpsi.Data):\n",
    "    \"\"\" Custom data container to enable synthesis. \"\"\"\n",
    "\n",
    "    def __init__(self, channels, phases, first, last):\n",
    "\n",
    "        self.channels = channels\n",
    "        self._phases = phases\n",
    "\n",
    "        try:\n",
    "            self._first = int(first)\n",
    "            self._last = int(last)\n",
    "        except TypeError:\n",
    "            raise TypeError('The first and last channels must be integers.')\n",
    "        if self._first >= self._last:\n",
    "            raise ValueError('The first channel number must be lower than the '\n",
    "                             'the last channel number.')"
   ]
  },
  {
   "cell_type": "code",
   "execution_count": 16,
   "metadata": {},
   "outputs": [
    {
     "data": {
      "text/plain": [
       "290"
      ]
     },
     "execution_count": 16,
     "metadata": {},
     "output_type": "execute_result"
    }
   ],
   "source": [
    "301-10-1"
   ]
  },
  {
   "cell_type": "code",
   "execution_count": 17,
   "metadata": {},
   "outputs": [
    {
     "data": {
      "text/plain": [
       "180"
      ]
     },
     "execution_count": 17,
     "metadata": {},
     "output_type": "execute_result"
    }
   ],
   "source": [
    "201-20-1"
   ]
  },
  {
   "cell_type": "code",
   "execution_count": 18,
   "metadata": {},
   "outputs": [
    {
     "name": "stdout",
     "output_type": "stream",
     "text": [
      "Setting channels for event data...\n",
      "Channels set.\n"
     ]
    }
   ],
   "source": [
    "_data = SynthesiseData(np.arange(10,301), np.linspace(0.0, 1.0, 33), 0, 290 )"
   ]
  },
  {
   "cell_type": "markdown",
   "metadata": {},
   "source": [
    "# Synthesing function"
   ]
  },
  {
   "cell_type": "code",
   "execution_count": 19,
   "metadata": {},
   "outputs": [],
   "source": [
    "\n",
    "from xpsi.tools.synthesise import synthesise_exposure as _synthesise\n",
    "\n",
    "def synthesise(self,\n",
    "               exposure_time,\n",
    "               expected_background_counts,\n",
    "               name='synthetic',\n",
    "               directory='./',\n",
    "               **kwargs):\n",
    "    \n",
    "        \"\"\" Synthesise data set.\n",
    "\n",
    "        \"\"\"\n",
    "        self._expected_counts, synthetic, bkg= _synthesise(exposure_time,\n",
    "                                                             self._data.phases,\n",
    "                                                             self._signals,\n",
    "                                                             self._phases,\n",
    "                                                             self._shifts,\n",
    "                                                             expected_background_counts,\n",
    "                                                             self._background.registered_background)\n",
    "        \n",
    "        try:\n",
    "            if not os.path.isdir(directory):\n",
    "                os.mkdir(directory)\n",
    "        except OSError:\n",
    "            print('Cannot create write directory.')\n",
    "            raise\n",
    "\n",
    "        np.savetxt(os.path.join(directory, name+'_realisation.dat'),\n",
    "                   synthetic,\n",
    "                   fmt = '%u')\n",
    "\n",
    "        self._write(self.expected_counts,\n",
    "                    filename = os.path.join(directory, name+'_expected_hreadable.dat'),\n",
    "                    fmt = '%.8e')\n",
    "\n",
    "        self._write(synthetic,\n",
    "                    filename = os.path.join(directory, name+'_realisation_hreadable.dat'),\n",
    "                    fmt = '%u')\n",
    "\n",
    "def _write(self, counts, filename, fmt):\n",
    "        \"\"\" Write to file in human readable format. \"\"\"\n",
    "\n",
    "        rows = len(self._data.phases) - 1\n",
    "        rows *= len(self._data.channels)\n",
    "\n",
    "        phases = self._data.phases[:-1]\n",
    "        array = np.zeros((rows, 3))\n",
    "\n",
    "        for i in range(counts.shape[0]):\n",
    "            for j in range(counts.shape[1]):\n",
    "                array[i*len(phases) + j,:] = self._data.channels[i], phases[j], counts[i,j]\n",
    "\n",
    "            np.savetxt(filename, array, fmt=['%u', '%.6f'] + [fmt])\n"
   ]
  },
  {
   "cell_type": "markdown",
   "metadata": {},
   "source": [
    "# Final settings"
   ]
  },
  {
   "cell_type": "code",
   "execution_count": 20,
   "metadata": {},
   "outputs": [
    {
     "name": "stdout",
     "output_type": "stream",
     "text": [
      "Creating parameter:\n",
      "    > Named \"phase_shift\" with fixed value 0.000e+00.\n",
      "    > The phase shift for the signal, a periodic parameter [cycles].\n",
      "No data... can synthesise data but cannot evaluate a likelihood function.\n"
     ]
    }
   ],
   "source": [
    "CustomSignal.synthesise = synthesise\n",
    "CustomSignal._write = _write\n",
    "\n",
    "signal = CustomSignal(data = _data,\n",
    "                        instrument = Instrument,\n",
    "                        background = background,\n",
    "                        interstellar = None,\n",
    "                        cache = True,\n",
    "                        prefix='Instrument')\n",
    "\n",
    "\n",
    "\n",
    "likelihood = xpsi.Likelihood(star = star, signals = signal,\n",
    "                             num_energies=384,\n",
    "                             threads=1,\n",
    "                             externally_updated=False)\n",
    "\n",
    "\n",
    "for h in hot_spot.objects:\n",
    "    h.set_phases(num_leaves = 100)\n"
   ]
  },
  {
   "cell_type": "code",
   "execution_count": 21,
   "metadata": {},
   "outputs": [
    {
     "name": "stdout",
     "output_type": "stream",
     "text": [
      "env: GSL_RNG_SEED=42\n"
     ]
    }
   ],
   "source": [
    "# The default seed is 0, but let's change it to an arbitrary value\n",
    "%env GSL_RNG_SEED=42"
   ]
  },
  {
   "cell_type": "code",
   "execution_count": 22,
   "metadata": {},
   "outputs": [
    {
     "data": {
      "text/plain": [
       "Free parameters\n",
       "---------------\n",
       "mass: Gravitational mass [solar masses].\n",
       "radius: Coordinate equatorial radius [km].\n",
       "distance: Earth distance [kpc].\n",
       "cos_inclination: Cosine of Earth inclination to rotation axis.\n",
       "hot__phase_shift: The phase of the hot region, a periodic parameter [cycles].\n",
       "hot__super_colatitude: The colatitude of the centre of the superseding region [radians].\n",
       "hot__super_radius: The angular radius of the (circular) superseding region [radians].\n",
       "hot__super_temperature: log10(superseding region effective temperature [K]).\n",
       "Instrument__powerlaw_index: Powerlaw spectral index."
      ]
     },
     "execution_count": 22,
     "metadata": {},
     "output_type": "execute_result"
    }
   ],
   "source": [
    "likelihood"
   ]
  },
  {
   "cell_type": "code",
   "execution_count": 23,
   "metadata": {
    "scrolled": false
   },
   "outputs": [
    {
     "name": "stdout",
     "output_type": "stream",
     "text": [
      "Prosseccing ...\n",
      "Done !\n"
     ]
    }
   ],
   "source": [
    "print(\"Prosseccing ...\")\n",
    "\n",
    "\n",
    "p_T=[1.4,                         # Mass in solar Mass\n",
    "     12,                          # Equatorial radius in km\n",
    "     1.,                          # Distance in kpc\n",
    "     math.cos(60*np.pi/180),      # Cosine of Earth inclination to rotation axis\n",
    "     0.0,                         # Phase shift\n",
    "     70*np.pi/180,                # Colatitude of the centre of the superseding region\n",
    "     0.75,                        # Angular radius of the (circular) superseding region\n",
    "     6.7,                         # Temperature in log 10\n",
    "     -2                           # Background sprectral index : gamma (E^gamma) \n",
    "    ]\n",
    "\n",
    "Instrument_kwargs = dict(exposure_time=1000.0,              \n",
    "                         expected_background_counts=10000.0,\n",
    "                         name='new_synthetic',\n",
    "                         directory='./Data/')\n",
    "\n",
    "likelihood.synthesise(p_T, force=True, Instrument=Instrument_kwargs) \n",
    "\n",
    "print(\"Done !\")"
   ]
  },
  {
   "cell_type": "markdown",
   "metadata": {},
   "source": [
    "# Checkings"
   ]
  },
  {
   "cell_type": "code",
   "execution_count": 24,
   "metadata": {},
   "outputs": [
    {
     "data": {
      "text/plain": [
       "<matplotlib.colorbar.Colorbar at 0x7f471de94890>"
      ]
     },
     "execution_count": 24,
     "metadata": {},
     "output_type": "execute_result"
    },
    {
     "data": {
      "image/png": "[encoded data removed]",
      "text/plain": [
       "<Figure size 1440x360 with 6 Axes>"
      ]
     },
     "metadata": {
      "needs_background": "light"
     },
     "output_type": "display_data"
    }
   ],
   "source": [
    "# Loading the data that you would get if the installation went well\n",
    "good_xspi_data=np.loadtxt(\"./Data/xpsi_good_realisation.dat\") \n",
    "\n",
    "# Loading the data that you got\n",
    "your_data=np.loadtxt(\"./Data/new_synthetic_realisation.dat\")\n",
    "\n",
    "residual=(good_xspi_data-your_data)\n",
    "\n",
    "fig,ax=plt.subplots(1,3,figsize=(20,5))\n",
    "\n",
    "xpsi_d=ax[0].imshow(good_xspi_data,cmap=cm.magma,origin=\"lower\", aspect=\"auto\",extent=[0,1,10,300])\n",
    "you_d=ax[1].imshow(your_data,cmap=cm.magma,origin=\"lower\", aspect=\"auto\",extent=[0,1,10,300])\n",
    "res=ax[2].imshow(residual,cmap=cm.magma,origin=\"lower\", aspect=\"auto\",extent=[0,1,10,300])\n",
    "\n",
    "anchored_text1 = AnchoredText(\"xpsi_good_installation\",loc=1)\n",
    "anchored_text2 = AnchoredText(\"Your installation\",loc=1)\n",
    "anchored_text3 = AnchoredText(\"Residual\",loc=1)\n",
    "\n",
    "ax[0].set_ylabel(\"Channels\")\n",
    "ax[0].set_xlabel(\"Phases\")\n",
    "ax[1].set_xlabel(\"Phases\")\n",
    "ax[2].set_xlabel(\"Phases\")\n",
    "ax[0].add_artist(anchored_text1)\n",
    "ax[1].add_artist(anchored_text2)\n",
    "ax[2].add_artist(anchored_text3)\n",
    "plt.colorbar(xpsi_d,ax=ax[0])\n",
    "plt.colorbar(you_d,ax=ax[1])\n",
    "plt.colorbar(res,ax=ax[2])"
   ]
  },
  {
   "cell_type": "markdown",
   "metadata": {},
   "source": [
    "# The end :)"
   ]
  }
 ],
 "metadata": {
  "kernelspec": {
   "display_name": "Python 2",
   "language": "python",
   "name": "python2"
  },
  "language_info": {
   "codemirror_mode": {
    "name": "ipython",
    "version": 2
   },
   "file_extension": ".py",
   "mimetype": "text/x-python",
   "name": "python",
   "nbconvert_exporter": "python",
   "pygments_lexer": "ipython2",
   "version": "2.7.18"
  }
 },
 "nbformat": 4,
 "nbformat_minor": 2
}
