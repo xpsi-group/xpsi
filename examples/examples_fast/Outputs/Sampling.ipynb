{
 "cells": [
  {
   "cell_type": "markdown",
   "metadata": {},
   "source": [
    "   # <center> Notebook for Sampling "
   ]
  },
  {
   "cell_type": "markdown",
   "metadata": {},
   "source": [
    "###  Simple model (ST- : single temperature)\n",
    "\n",
    "### For more complex model, see: \n",
    "https://xpsi-group.github.io/xpsi"
   ]
  },
  {
   "cell_type": "markdown",
   "metadata": {},
   "source": [
    "## <center> Importing modules"
   ]
  },
  {
   "cell_type": "code",
   "execution_count": 1,
   "metadata": {},
   "outputs": [
    {
     "name": "stdout",
     "output_type": "stream",
     "text": [
      "/=============================================\\\n",
      "| X-PSI: X-ray Pulse Simulation and Inference |\n",
      "|---------------------------------------------|\n",
      "|                Version: 2.0.0               |\n",
      "|---------------------------------------------|\n",
      "|      https://xpsi-group.github.io/xpsi      |\n",
      "\\=============================================/\n",
      "\n",
      "Imported GetDist version: 1.4\n",
      "Imported nestcheck version: 0.2.1\n"
     ]
    }
   ],
   "source": [
    "%matplotlib inline\n",
    "\n",
    "import os\n",
    "import numpy as np\n",
    "import math\n",
    "\n",
    "\n",
    "from matplotlib import pyplot as plt\n",
    "from matplotlib import rcParams\n",
    "from matplotlib.offsetbox import AnchoredText\n",
    "from matplotlib.ticker import MultipleLocator, AutoLocator, AutoMinorLocator\n",
    "from matplotlib import gridspec\n",
    "from matplotlib import cm\n",
    "from matplotlib.patches import Rectangle\n",
    "import matplotlib.patches as mpatches\n",
    "\n",
    "\n",
    "import xpsi\n",
    "from xpsi import Parameter\n",
    "from scipy.interpolate import Akima1DInterpolator\n",
    "from xpsi.global_imports import _c, _G, _dpr, gravradius, _csq, _km, _2pi"
   ]
  },
  {
   "cell_type": "markdown",
   "metadata": {},
   "source": [
    "# Loading data"
   ]
  },
  {
   "cell_type": "code",
   "execution_count": 2,
   "metadata": {},
   "outputs": [
    {
     "name": "stdout",
     "output_type": "stream",
     "text": [
      "Setting channels for event data...\n",
      "Channels set.\n"
     ]
    }
   ],
   "source": [
    "\n",
    "data = xpsi.Data(np.loadtxt(\"./Data/xpsi_good_realisation.dat\", dtype=np.double),\n",
    "                     channels=np.arange(10,301),\n",
    "                     phases=np.linspace(0.0, 1.0, 33),\n",
    "                     first=0,\n",
    "                     last=290,\n",
    "                     exposure_time=1000.0)\n"
   ]
  },
  {
   "cell_type": "markdown",
   "metadata": {},
   "source": [
    "# Instrument settings"
   ]
  },
  {
   "cell_type": "code",
   "execution_count": 3,
   "metadata": {},
   "outputs": [],
   "source": [
    "# Let use the same fake telescope used to geenrate the synthetic data\n",
    "\n",
    "\n",
    "\n",
    "\n",
    "channel_number=np.arange(0,1501)    # The channel nnumber\n",
    "energy_low=np.arange(0,15.01, 0.01) # Lower bounds of each channel\n",
    "energy_high=energy_low+0.01         # Upper bounds of each channel\n",
    "channel_edges=np.array([list(channel_number),list(energy_low),list(energy_high)]).T\n",
    "\n",
    "# ARF\n",
    "arf_energy_low=[0.1]\n",
    "arf_energy_high=[0.105]\n",
    "arf_val=[1800]\n",
    "\n",
    "counter=1\n",
    "while arf_energy_low[-1]<=14.995:\n",
    "    arf_energy_low.append(arf_energy_low[-1]+0.005)\n",
    "    arf_energy_high.append(arf_energy_high[-1]+0.005)\n",
    "    arf_val.append(1800)\n",
    "    counter +=1\n",
    "\n",
    "\n",
    "ARF=np.array([list(arf_energy_low),\n",
    "              list(arf_energy_high),\n",
    "              list(arf_val)]).T\n",
    "\n",
    "# RMF\n",
    "RMF=np.diag(np.full(counter,1))        "
   ]
  },
  {
   "cell_type": "code",
   "execution_count": 4,
   "metadata": {},
   "outputs": [],
   "source": [
    "# Instrument Class\n",
    "\n",
    "class CustomInstrument(xpsi.Instrument):\n",
    "    \n",
    "    \"\"\" Fake telescope response. \"\"\"\n",
    "    \n",
    "    \n",
    "\n",
    "    def __call__(self, signal, *args):\n",
    "        \"\"\" Overwrite base just to show it is possible.\n",
    "\n",
    "        We loaded only a submatrix of the total instrument response\n",
    "        matrix into memory, so here we can simplify the method in the\n",
    "        base class.\n",
    "\n",
    "        \"\"\"\n",
    "        matrix = self.construct_matrix()\n",
    "\n",
    "        self._folded_signal = np.dot(matrix, signal)\n",
    "\n",
    "        return self._folded_signal\n",
    "\n",
    "    @classmethod\n",
    "    def from_response_files(cls, ARF, RMF, max_input, min_input=0,channel=[1,1500],\n",
    "                            channel_edges=None):\n",
    "        \"\"\" Constructor which converts response files into :class:`numpy.ndarray`s.\n",
    "        :param str ARF: Path to ARF which is compatible with\n",
    "                                :func:`numpy.loadtxt`.\n",
    "        :param str RMF: Path to RMF which is compatible with\n",
    "                                :func:`numpy.loadtxt`.\n",
    "        :param str channel_edges: Optional path to edges which is compatible with\n",
    "                                  :func:`numpy.loadtxt`.\n",
    "        \"\"\"\n",
    "\n",
    "        if min_input != 0:\n",
    "            min_input = int(min_input)\n",
    "\n",
    "        max_input = int(max_input)\n",
    "\n",
    "        matrix = np.ascontiguousarray(RMF[min_input:max_input,channel[0]:channel[1]].T, dtype=np.double)\n",
    "\n",
    "        edges = np.zeros(ARF[min_input:max_input,2].shape[0]+1, dtype=np.double)\n",
    "        \n",
    "        \n",
    "\n",
    "        edges[0] = ARF[min_input,0]; edges[1:] = ARF[min_input:max_input,1]\n",
    "\n",
    "        for i in range(matrix.shape[0]):\n",
    "            matrix[i,:] *= ARF[min_input:max_input,2]\n",
    "    \n",
    "\n",
    "        channels = np.arange(channel[0],channel[1])\n",
    "    \n",
    "\n",
    "        return cls(matrix, edges, channels, channel_edges[channel[0]:channel[1]+1,1])\n"
   ]
  },
  {
   "cell_type": "code",
   "execution_count": 5,
   "metadata": {},
   "outputs": [
    {
     "name": "stdout",
     "output_type": "stream",
     "text": [
      "Setting channels for loaded instrument response (sub)matrix...\n",
      "Channels set.\n",
      "No parameters supplied... empty subspace created.\n"
     ]
    }
   ],
   "source": [
    "Instrument = CustomInstrument.from_response_files(ARF =ARF,\n",
    "                                             RMF = RMF,\n",
    "                                             max_input = 301,\n",
    "                                             min_input = 10,\n",
    "                                             channel=[10,301],\n",
    "                                             channel_edges =channel_edges)"
   ]
  },
  {
   "cell_type": "markdown",
   "metadata": {},
   "source": [
    "# Signal"
   ]
  },
  {
   "cell_type": "code",
   "execution_count": 6,
   "metadata": {},
   "outputs": [],
   "source": [
    "# Nothing very special here\n",
    "\n",
    "import six as _six\n",
    "\n",
    "from xpsi.likelihoods.default_background_marginalisation import eval_marginal_likelihood\n",
    "from xpsi.likelihoods.default_background_marginalisation import precomputation\n",
    "\n",
    "class CustomSignal(xpsi.Signal):\n",
    "    \"\"\" A custom calculation of the logarithm of the NICER likelihood.\n",
    "\n",
    "    We extend the :class:`xpsi.Signal.Signal` class to make it callable.\n",
    "\n",
    "    We overwrite the body of the __call__ method. The docstring for the\n",
    "    abstract method is copied.\n",
    "\n",
    "    \"\"\"\n",
    "\n",
    "    def __init__(self, workspace_intervals = 1000, epsabs = 0, epsrel = 1.0e-8,\n",
    "                 epsilon = 1.0e-3, sigmas = 10.0, support = None, *args, **kwargs):\n",
    "        \"\"\" Perform precomputation. \"\"\"\n",
    "\n",
    "        super(CustomSignal, self).__init__(*args, **kwargs)\n",
    "\n",
    "        try:\n",
    "            self._precomp = precomputation(self._data.counts.astype(np.int32))\n",
    "        except AttributeError:\n",
    "            print('No data... can synthesise data but cannot evaluate a '\n",
    "                  'likelihood function.')\n",
    "        else:\n",
    "            self._workspace_intervals = workspace_intervals\n",
    "            self._epsabs = epsabs\n",
    "            self._epsrel = epsrel\n",
    "            self._epsilon = epsilon\n",
    "            self._sigmas = sigmas\n",
    "\n",
    "            if support is not None:\n",
    "                self._support = support\n",
    "            else:\n",
    "                self._support = -1.0 * np.ones((self._data.counts.shape[0],2))\n",
    "                self._support[:,0] = 0.0\n",
    "\n",
    "    @property\n",
    "    def support(self):\n",
    "        return self._support\n",
    "\n",
    "    @support.setter\n",
    "    def support(self, obj):\n",
    "        self._support = obj\n",
    "\n",
    "    def __call__(self, *args, **kwargs):\n",
    "        self.loglikelihood, self.expected_counts, self.background_signal,self.background_given_support = \\\n",
    "                eval_marginal_likelihood(self._data.exposure_time,\n",
    "                                          self._data.phases,\n",
    "                                          self._data.counts,\n",
    "                                          self._signals,\n",
    "                                          self._phases,\n",
    "                                          self._shifts,\n",
    "                                          self._precomp,\n",
    "                                          self._support,\n",
    "                                          self._workspace_intervals,\n",
    "                                          self._epsabs,\n",
    "                                          self._epsrel,\n",
    "                                          self._epsilon,\n",
    "                                          self._sigmas,\n",
    "                                          kwargs.get('llzero'))\n"
   ]
  },
  {
   "cell_type": "code",
   "execution_count": 7,
   "metadata": {},
   "outputs": [
    {
     "name": "stdout",
     "output_type": "stream",
     "text": [
      "Creating parameter:\n",
      "    > Named \"phase_shift\" with fixed value 0.000e+00.\n",
      "    > The phase shift for the signal, a periodic parameter [cycles].\n"
     ]
    }
   ],
   "source": [
    "#from CustomSignal import CustomSignal\n",
    "\n",
    "signal = CustomSignal(data = data,\n",
    "                      instrument = Instrument,\n",
    "                      interstellar = None,\n",
    "                      cache = True,\n",
    "                      workspace_intervals = 1000,\n",
    "                      epsrel = 1.0e-8,\n",
    "                      epsilon = 1.0e-3,\n",
    "                      sigmas = 10.0)\n",
    "\n"
   ]
  },
  {
   "cell_type": "markdown",
   "metadata": {},
   "source": [
    "# Space-time"
   ]
  },
  {
   "cell_type": "markdown",
   "metadata": {},
   "source": [
    "### These are the parameters used to generate the synthetic data, hence for the sampling to be fast, let use some tight prior around those values\n",
    "\n",
    "- 1.4,                         # Mass in solar Mass\n",
    "- 12,                          # Equatorial radius in km\n",
    "- 1.,                          # Distance in kpc\n",
    "- math.cos(60*np.pi/180),      # Cosine of Earth inclination to rotation axis\n",
    "- 0.0,                         # Phase shift\n",
    "- 70*np.pi/180,                # Colatitude of the centre of the superseding region\n",
    "- 0.75,                        # Angular radius of the (circular) superseding region\n",
    "- 6.7,                         # Temperature in log 10\n",
    "- -2                           # Background sprectral index : gamma (E^gamma) \n"
   ]
  },
  {
   "cell_type": "code",
   "execution_count": 8,
   "metadata": {},
   "outputs": [
    {
     "name": "stdout",
     "output_type": "stream",
     "text": [
      "Creating parameter:\n",
      "    > Named \"frequency\" with fixed value 3.140e+02.\n",
      "    > Spin frequency [Hz].\n",
      "Creating parameter:\n",
      "    > Named \"mass\" with bounds [1.000e+00, 1.600e+00].\n",
      "    > Gravitational mass [solar masses].\n",
      "Creating parameter:\n",
      "    > Named \"radius\" with bounds [1.000e+01, 1.300e+01].\n",
      "    > Coordinate equatorial radius [km].\n",
      "Creating parameter:\n",
      "    > Named \"distance\" with bounds [5.000e-01, 2.000e+00].\n",
      "    > Earth distance [kpc].\n",
      "Creating parameter:\n",
      "    > Named \"cos_inclination\" with bounds [0.000e+00, 1.000e+00].\n",
      "    > Cosine of Earth inclination to rotation axis.\n"
     ]
    }
   ],
   "source": [
    "bounds = dict(distance = (0.5,2),\n",
    "              mass = (1.0,1.6),\n",
    "              radius = (10,13),\n",
    "              cos_inclination = (0,1))\n",
    "\n",
    "\n",
    "spacetime = xpsi.Spacetime(bounds,\n",
    "                           values=dict(frequency = 314.0))\n"
   ]
  },
  {
   "cell_type": "markdown",
   "metadata": {},
   "source": [
    "# Hot-spot"
   ]
  },
  {
   "cell_type": "code",
   "execution_count": 9,
   "metadata": {},
   "outputs": [
    {
     "name": "stdout",
     "output_type": "stream",
     "text": [
      "Creating parameter:\n",
      "    > Named \"super_colatitude\" with bounds [1.000e-03, 1.570e+00].\n",
      "    > The colatitude of the centre of the superseding region [radians].\n",
      "Creating parameter:\n",
      "    > Named \"super_radius\" with bounds [1.000e-03, 1.570e+00].\n",
      "    > The angular radius of the (circular) superseding region [radians].\n",
      "Creating parameter:\n",
      "    > Named \"phase_shift\" with bounds [-2.500e-01, 7.500e-01].\n",
      "    > The phase of the hot region, a periodic parameter [cycles].\n",
      "Creating parameter:\n",
      "    > Named \"super_temperature\" with bounds [6.000e+00, 7.000e+00].\n",
      "    > log10(superseding region effective temperature [K]).\n"
     ]
    }
   ],
   "source": [
    "\n",
    "bounds = dict(super_colatitude = (0.001, math.pi/2 - 0.001),\n",
    "              super_radius = (0.001, math.pi/2 - 0.001),\n",
    "              phase_shift = (-0.25, 0.75),\n",
    "              super_temperature = (6., 7.))  # Valery model limit\n",
    "\n",
    "\n",
    "hot_spot = xpsi.HotRegion(bounds=bounds,\n",
    "                                values={},\n",
    "                                symmetry=True,\n",
    "                                omit=False,\n",
    "                                cede=False,\n",
    "                                concentric=False,\n",
    "                                sqrt_num_cells=32,\n",
    "                                min_sqrt_num_cells=16,\n",
    "                                max_sqrt_num_cells=64,\n",
    "                                num_leaves=64,\n",
    "                                num_rays=512,\n",
    "                                is_secondary=True,\n",
    "                                image_order_limit=3, # up to tertiary\n",
    "                                prefix='hot')\n"
   ]
  },
  {
   "cell_type": "markdown",
   "metadata": {},
   "source": [
    "# Phostosphere"
   ]
  },
  {
   "cell_type": "code",
   "execution_count": 10,
   "metadata": {},
   "outputs": [],
   "source": [
    "# Let's always use our black body model"
   ]
  },
  {
   "cell_type": "code",
   "execution_count": 11,
   "metadata": {},
   "outputs": [],
   "source": [
    "class CustomPhotosphere(xpsi.Photosphere):\n",
    "    \"\"\" Implement method for imaging.\"\"\"\n",
    "\n",
    "    @property\n",
    "    def global_variables(self):\n",
    "\n",
    "        return np.array([self['hot__super_colatitude'],\n",
    "                          self['hot__phase_shift'] * _2pi,\n",
    "                          self['hot__super_radius'],\n",
    "                          self['hot__super_temperature']])\n",
    "\n"
   ]
  },
  {
   "cell_type": "code",
   "execution_count": 12,
   "metadata": {},
   "outputs": [
    {
     "name": "stdout",
     "output_type": "stream",
     "text": [
      "Creating parameter:\n",
      "    > Named \"mode_frequency\" with fixed value 3.140e+02.\n",
      "    > Coordinate frequency of the mode of radiative asymmetry in the\n",
      "photosphere that is assumed to generate the pulsed signal [Hz].\n"
     ]
    }
   ],
   "source": [
    "photosphere = CustomPhotosphere(hot = hot_spot, elsewhere = None,\n",
    "                                values=dict(mode_frequency = spacetime['frequency']))\n",
    "\n"
   ]
  },
  {
   "cell_type": "markdown",
   "metadata": {},
   "source": [
    "# Star"
   ]
  },
  {
   "cell_type": "code",
   "execution_count": 13,
   "metadata": {},
   "outputs": [],
   "source": [
    "star = xpsi.Star(spacetime = spacetime, photospheres = photosphere)"
   ]
  },
  {
   "cell_type": "markdown",
   "metadata": {},
   "source": [
    "# Prior"
   ]
  },
  {
   "cell_type": "code",
   "execution_count": 14,
   "metadata": {},
   "outputs": [],
   "source": [
    "# For fun, let put consider that we have a prior knowlege  on the distance\n",
    "# Say a Gaussian centered on 1kpc with a std=0.1, troncated at +-5 sigma\n",
    "\n",
    "# We also take define the colatitude to be uniform in cosine space\n"
   ]
  },
  {
   "cell_type": "code",
   "execution_count": 15,
   "metadata": {},
   "outputs": [],
   "source": [
    "from scipy.interpolate import Akima1DInterpolator\n",
    "\n",
    "from scipy.stats import truncnorm\n",
    "\n",
    "class CustomPrior(xpsi.Prior):\n",
    "    \"\"\" A custom (joint) prior distribution.\n",
    "\n",
    "    Source: Fictitious\n",
    "    Model variant: ST-\n",
    "\n",
    "    \"\"\"\n",
    "\n",
    "    __derived_names__ = ['compactness', 'phase_separation',]\n",
    "\n",
    "    def __init__(self):\n",
    "        \"\"\" Nothing to be done.\n",
    "\n",
    "        A direct reference to the spacetime object could be put here\n",
    "        for use in __call__:\n",
    "\n",
    "        .. code-block::\n",
    "\n",
    "            self.spacetime = ref\n",
    "\n",
    "        Instead we get a reference to the spacetime object through the\n",
    "        a reference to a likelihood object which encapsulates a\n",
    "        reference to the spacetime object.\n",
    "\n",
    "        \"\"\"\n",
    "        super(CustomPrior, self).__init__() # not strictly required if no hyperparameters\n",
    "\n",
    "    def __call__(self, p = None):\n",
    "        \"\"\" Evaluate distribution at ``p``.\n",
    "\n",
    "        :param list p: Model parameter values.\n",
    "\n",
    "        :returns: Logarithm of the distribution evaluated at ``p``.\n",
    "\n",
    "        \"\"\"\n",
    "        temp = super(CustomPrior, self).__call__(p)\n",
    "        if not np.isfinite(temp):\n",
    "            return temp\n",
    "\n",
    "        # based on contemporary EOS theory\n",
    "        if not self.parameters['radius'] <= 16.0:\n",
    "            return -np.inf\n",
    "\n",
    "        ref = self.parameters.star.spacetime # shortcut\n",
    "\n",
    "        # Compactness limit\n",
    "        R_p = 1.0 + ref.epsilon * (-0.788 + 1.030 * ref.zeta)\n",
    "        if R_p < 1.76 / ref.R_r_s:\n",
    "            return -np.inf\n",
    "\n",
    "        mu = math.sqrt(-1.0 / (3.0 * ref.epsilon * (-0.788 + 1.030 * ref.zeta)))\n",
    "\n",
    "        # 2-surface cross-section have a single maximum in |z|\n",
    "        # i.e., an elliptical surface; minor effect on support, if any,\n",
    "        # for high spin frequenies\n",
    "        if mu < 1.0:\n",
    "            return -np.inf\n",
    "\n",
    "        ref = self.parameters\n",
    "\n",
    "        return 0.0\n",
    "\n",
    "    def inverse_sample(self, hypercube=None):\n",
    "        \"\"\" Draw sample uniformly from the distribution via inverse sampling. \"\"\"\n",
    "\n",
    "        to_cache = self.parameters.vector\n",
    "\n",
    "        if hypercube is None:\n",
    "            hypercube = np.random.rand(len(self))\n",
    "\n",
    "        # the base method is useful, so to avoid writing that code again:\n",
    "        _ = super(CustomPrior, self).inverse_sample(hypercube)\n",
    "\n",
    "        ref = self.parameters # shortcut\n",
    "        \n",
    "        idx = ref.index('distance')\n",
    "        ref['distance'] = truncnorm.ppf(hypercube[idx], -5.0, 5.0, loc=1.0, scale=0.1)\n",
    "\n",
    "        # flat priors in cosine of hot region centre colatitudes (isotropy)\n",
    "        # support modified by no-overlap rejection condition\n",
    "        idx = ref.index('hot__super_colatitude')\n",
    "        a, b = ref.get_param('hot__super_colatitude').bounds\n",
    "        a = math.cos(a); b = math.cos(b)\n",
    "        ref['hot__super_colatitude'] = math.acos(b + (a - b) * hypercube[idx])\n",
    "\n",
    "\n",
    "        # restore proper cache\n",
    "        for parameter, cache in zip(ref, to_cache):\n",
    "            parameter.cached = cache\n",
    "\n",
    "        # it is important that we return the desired vector because it is\n",
    "        # automatically written to disk by MultiNest and only by MultiNest\n",
    "        return self.parameters.vector\n",
    "\n",
    "    def transform(self, p, **kwargs):\n",
    "        \"\"\" A transformation for post-processing. \"\"\"\n",
    "\n",
    "        p = list(p) # copy\n",
    "\n",
    "        # used ordered names and values\n",
    "        ref = dict(zip(self.parameters.names, p))\n",
    "\n",
    "        # compactness ratio M/R_eq\n",
    "        p += [gravradius(ref['mass']) / ref['radius']]\n",
    "\n",
    "        return p\n"
   ]
  },
  {
   "cell_type": "code",
   "execution_count": 16,
   "metadata": {},
   "outputs": [
    {
     "name": "stdout",
     "output_type": "stream",
     "text": [
      "No parameters supplied... empty subspace created.\n"
     ]
    }
   ],
   "source": [
    "prior = CustomPrior()"
   ]
  },
  {
   "cell_type": "markdown",
   "metadata": {},
   "source": [
    "# Likelihood"
   ]
  },
  {
   "cell_type": "code",
   "execution_count": 17,
   "metadata": {},
   "outputs": [],
   "source": [
    "\n",
    "likelihood = xpsi.Likelihood(star = star, signals = signal,\n",
    "                             num_energies = 128,\n",
    "                             threads = 1,\n",
    "                             externally_updated = True,\n",
    "                             prior = prior)"
   ]
  },
  {
   "cell_type": "code",
   "execution_count": 18,
   "metadata": {},
   "outputs": [
    {
     "data": {
      "text/plain": [
       "Free parameters\n",
       "---------------\n",
       "mass: Gravitational mass [solar masses].\n",
       "radius: Coordinate equatorial radius [km].\n",
       "distance: Earth distance [kpc].\n",
       "cos_inclination: Cosine of Earth inclination to rotation axis.\n",
       "hot__phase_shift: The phase of the hot region, a periodic parameter [cycles].\n",
       "hot__super_colatitude: The colatitude of the centre of the superseding region [radians].\n",
       "hot__super_radius: The angular radius of the (circular) superseding region [radians].\n",
       "hot__super_temperature: log10(superseding region effective temperature [K])."
      ]
     },
     "execution_count": 18,
     "metadata": {},
     "output_type": "execute_result"
    }
   ],
   "source": [
    "likelihood"
   ]
  },
  {
   "cell_type": "code",
   "execution_count": 19,
   "metadata": {},
   "outputs": [
    {
     "name": "stdout",
     "output_type": "stream",
     "text": [
      "Checking likelihood and prior evaluation before commencing sampling...\n",
      "Not using ``allclose`` function from NumPy.\n",
      "Using fallback implementation instead.\n",
      "Checking closeness of likelihood arrays:\n",
      "-4.7881278177e+04 | -4.7881278177e+04 .....\n",
      "Closeness evaluated.\n",
      "Log-likelihood value checks passed on root process.\n",
      "Checks passed.\n"
     ]
    },
    {
     "data": {
      "text/plain": [
       "'Log-likelihood value checks passed on root process.'"
      ]
     },
     "execution_count": 19,
     "metadata": {},
     "output_type": "execute_result"
    }
   ],
   "source": [
    "# Crutial step, if the likelihood check fails, then something went terrible wrong :)\n",
    "p=[1.4,10,1.,math.cos(60*np.pi/180),0.0,70*np.pi/180, 0.75,6.8]\n",
    "\n",
    "likelihood.check(None, [-47881.27817666349], 1.0e-5, physical_points=[p])"
   ]
  },
  {
   "cell_type": "markdown",
   "metadata": {},
   "source": [
    "# Sampling :)"
   ]
  },
  {
   "cell_type": "code",
   "execution_count": 20,
   "metadata": {
    "scrolled": true
   },
   "outputs": [],
   "source": [
    "# Do not run this, but instead run the main in located in modules:  mpiexec -n xxxx python main.py \n",
    "\n",
    "# wrapped_params = [0] * len(likelihood)\n",
    "# wrapped_params[likelihood.index('hot__phase_shift')] = 1\n",
    "\n",
    "# runtime_params = {'resume': False,\n",
    "#                       'importance_nested_sampling': False,\n",
    "#                       'multimodal': False,\n",
    "#                       'n_clustering_params': None,\n",
    "#                       'outputfiles_basename': './Outputs/ST_live_1000_eff_0.3',\n",
    "#                       'n_iter_before_update': 100,\n",
    "#                       'n_live_points': 1000,\n",
    "#                       'sampling_efficiency': 0.3,\n",
    "#                       'const_efficiency_mode': False,\n",
    "#                       'wrapped_params': wrapped_params,\n",
    "#                       'evidence_tolerance': 0.1,\n",
    "#                       'max_iter': -1,\n",
    "#                       'seed' : 0, # Fixing the seed \n",
    "#                       'verbose': True}\n",
    "\n",
    "# xpsi.Sample.nested(likelihood, prior, **runtime_params)\n",
    "\n",
    "#print(\"Done ...\")\n",
    "\n",
    "#print('Sampling took', (time.time()-start)/60, 'minutes')"
   ]
  },
  {
   "cell_type": "code",
   "execution_count": null,
   "metadata": {},
   "outputs": [],
   "source": []
  }
 ],
 "metadata": {
  "kernelspec": {
   "display_name": "Python 3 (ipykernel)",
   "language": "python",
   "name": "python3"
  },
  "language_info": {
   "codemirror_mode": {
    "name": "ipython",
    "version": 3
   },
   "file_extension": ".py",
   "mimetype": "text/x-python",
   "name": "python",
   "nbconvert_exporter": "python",
   "pygments_lexer": "ipython3",
   "version": "3.10.6"
  }
 },
 "nbformat": 4,
 "nbformat_minor": 2
}
