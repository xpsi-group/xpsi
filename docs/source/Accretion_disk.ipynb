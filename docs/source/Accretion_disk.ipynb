{
 "cells": [
  {
   "cell_type": "markdown",
   "id": "d93903c4-cfae-4d2d-b931-5410915b3e2a",
   "metadata": {},
   "source": [
    "# Accretion disk"
   ]
  },
  {
   "cell_type": "markdown",
   "id": "cd9d821a-344a-4190-b089-01cf1dd83f88",
   "metadata": {},
   "source": [
    "The file `Bobrikova_compton_slab_I.npz`, which contains the atmosphere data for an accretion powered hot spot, is required for this tutorial to run as intended. Still, in principle one could use any atmosphere, such as a default blackbody atmosphere, which does not require this file.\n",
    "\n",
    "In this tutorial we will set up an accretion disk, which is a radiation source separate from the star, and add its contribution to the signal. If you don't want an explanation but just a working example of a star with an accretion disk in X-PSI, you can find it in `/examples/example_modelling_tutorial/TestRun_AMXP.py`. From there you can copy the code and modify it as you wish. \n",
    "\n",
    "The accretion disk we will use here ([Mitsuda et al. 1984](https://ui.adsabs.harvard.edu/abs/1984PASJ...36..741M/abstract), [Makishima et al. 1986](https://ui.adsabs.harvard.edu/abs/1986ApJ...308..635M/abstract)) is a superposition of multicolor blackbody rings. It does not include relativistic effects and spectral hardening.\n",
    "\n",
    "## Setting up the disk model\n",
    "\n",
    "We follow here the description given by Makishima et al. (1986). The disk is parametrized by an inner cut-off radius, $R_\\rm{in}$, a temperature at this radius, $T_\\rm{in}$, and an outer radius, $R_\\rm{out}$. The outer rings will contribute much less to the X-ray spectrum than inner rings due to being much colder, so the exact value of $R_\\rm{out}$ is much less consequential than $R_\\rm{in}$. For each ring, the temperature at some radius $T(r)$ is determined by the (gravitational) energy release associated with accretion towards a central object of mass $M_*$. It is expressed as:\n",
    "\n",
    "$$T(r) = \\left(\\frac{3 G \\dot{M} M_*}{8 \\pi \\sigma r^3}\\right)^{1/4},$$\n",
    "\n",
    "where $G$ is the gravitational constant, $\\dot{M}$ is the accretion rate and $\\sigma$ is the Stefan-Boltzmann constant. If the accretion and the luminosity from accretion were isotropic, one could thus infer accretion rate if all the other parameters in this equation were known. However, this will not be the case (i.e. not isotropic) in the situations we will be considering so we can not apply this equation for that purpose and we will not be using it at all in the end. Nevertheless, we included it here as it is relevant context for how the temperature is produced and how it is distributed (even if just approximately) in the radial direction.\n",
    "\n",
    "The surface area $dA$ of an infinitesimal ring between between $r-dr$ and $r$ is given by $2 \\pi r dr$. The specific luminosity $dL_\\rm{ring}(E)$ (energy/time/energy) of two hemispheres becomes\n",
    "\n",
    "$$dL_\\rm{ring}(E) = 4 B(E,T(r)) dA \\int d\\Omega= 8 \\pi B(E,T(r)) r dr \\int d\\Omega = 8 \\pi^2 B(E,T(r)) r dr.$$ \n",
    "\n",
    "Here the integral of the solid angle over one hemisphere evaluates to $\\pi$. We multiply by 2 for the two sides of the disk and another factor of 2 appears since we define the $B(E, T)$, as half of the blackbody spectral radiance,  \n",
    "\n",
    "$$B(E,T) = \\frac{E^3}{c^2h^2}\\left[\\exp{\\left(\\frac{E}{k_\\rm{B}T}\\right)-1}\\right]^{-1}. $$\n",
    "\n",
    "Next up, we will provide the python functions involved in computing the radiation from the accretion disk that we will later collect into a python class. Let's start with the definition of $B(E, T)$:"
   ]
  },
  {
   "cell_type": "code",
   "execution_count": 1,
   "id": "e6c887a5-8168-4455-ada5-287053266ca5",
   "metadata": {},
   "outputs": [
    {
     "name": "stdout",
     "output_type": "stream",
     "text": [
      "/=============================================\\\n",
      "| X-PSI: X-ray Pulse Simulation and Inference |\n",
      "|---------------------------------------------|\n",
      "|                Version: 3.0.4               |\n",
      "|---------------------------------------------|\n",
      "|      https://xpsi-group.github.io/xpsi      |\n",
      "\\=============================================/\n",
      "\n",
      "Check your emcee installation.\n",
      "Check your installation of emcee if using the EnsembleSampler\n",
      "Imported PyMultiNest.\n",
      "Check your UltraNest installation.\n",
      "Check your installation of UltraNest if using the UltranestSampler\n",
      "Warning: Cannot import torch and test SBI_wrapper.\n",
      "Imported GetDist version: 1.5.3\n",
      "Imported nestcheck version: 0.2.1\n"
     ]
    }
   ],
   "source": [
    "import numpy as np\n",
    "from xpsi.global_imports import  _keV, _k_B, _h_keV\n",
    "_c = 2.99792458E8\n",
    "_c_cgs = _c*1E2\n",
    "\n",
    "def B_E(self, E, T):\n",
    "    '''\n",
    "    Half the energy radiance of a blackbody. If the the photon energy is much higher than kT, \n",
    "    the radiance is set to zero and ignores a warning.\n",
    "\n",
    "    parameters:\n",
    "        E in keV\n",
    "        T in keV\n",
    "\n",
    "    returns:\n",
    "        B_E in keV/s/keV/cm^2/sr (you will integrate over keV)\n",
    "    '''\n",
    "    with np.errstate(over='ignore'):\n",
    "        safe_ET = np.float128(E / T)\n",
    "        exp_safe_ET = np.exp(safe_ET)\n",
    "    B = np.where(np.isinf(exp_safe_ET), 0, E**3 / (_h_keV**3 * _c_cgs**2) / (exp_safe_ET - 1))\n",
    "    return B"
   ]
  },
  {
   "cell_type": "markdown",
   "id": "194a14db-3f7a-4d24-9ad7-d2302363bbdb",
   "metadata": {},
   "source": [
    "The specific flux of the disk $f_\\rm{disk}(E)$ (energy/time/length$^2$/energy) is the integral of the contribution of each ring from $R_\\rm{in}$ to $R_\\rm{out}$. This can be conveniently expressed as an integral over $dT$:\n",
    "\n",
    "\n",
    "\\begin{equation}\n",
    "\\begin{aligned}\n",
    "f_\\mathrm{disk}(E) &= \\frac{\\cos{i} \\int dL_\\mathrm{ring}}{4\\pi D^2} \\\\\n",
    "&= \\frac{2 \\pi \\cos{i}}{D^2} \\int_{R_\\mathrm{in}}^{R_\\mathrm{out}} r B(E,T(r)) \\, dr \\\\\n",
    "&= \\frac{8\\pi R_\\mathrm{in}^2 \\cos{i}}{3 D^2 T_\\mathrm{in}} \n",
    "\\int_{T_\\mathrm{out}}^{T_\\mathrm{in}} \\Big(\\frac{T}{T_\\mathrm{in}}\\Big)^{-11/3} B(E,T) \\, dT.\n",
    "\\end{aligned}\n",
    "\\end{equation}\n",
    "\n",
    "Where $D$ is the distance and we introduced $\\cos{i}$ to scale the flux to account for the viewing angle.\n",
    "\n",
    "In the code, similar to the approach in Xspec (the diskbb model), we collect the three parameters outside of the integral into a normalisation factor \n",
    "$$K_\\rm{disk} = R_\\rm{in}^2 \\cos{i} / D^2.$$ "
   ]
  },
  {
   "cell_type": "code",
   "execution_count": 2,
   "id": "fc36e041-0d65-43b9-b24b-86492d4abf84",
   "metadata": {},
   "outputs": [],
   "source": [
    "def get_k_disk(cos_i, r_in, distance):\n",
    "    \"\"\"\n",
    "    This function calculates the k-disk value for a given set of input parameters.\n",
    "    \n",
    "    Parameters\n",
    "    ----------\n",
    "    cos_i: The cosine inclination angle of the disk\n",
    "    r_in: The inner radius of the disk in kilometers\n",
    "    distance: The distance to the disk (and star) in kiloparsecs\n",
    "    \n",
    "    Returns\n",
    "    -------\n",
    "    k_disk normalisation factor\n",
    "    \n",
    "    \"\"\"\n",
    "\n",
    "    k_disk = cos_i * (r_in / (distance / 10))**2 # in [km/ 10 kpc]^2\n",
    "    \n",
    "    # K_disk is cos_i*R_in^2/D^2 in (km / 10 kpc)^2.\n",
    "    # (1 km / 10 kpc)^2 = 1.0502650e-35 [ cm/cm ]^2\n",
    "\n",
    "    k_disk *= 1.0502650e-35 # now k_disk is unitless\n",
    "\n",
    "    return k_disk"
   ]
  },
  {
   "cell_type": "markdown",
   "id": "8a3cecd6-a245-43b1-b2b7-bd1f4ce0ac40",
   "metadata": {},
   "source": [
    "We also define the integrand $l_\\rm{disk}(E,T) = \\frac{1}{T_\\rm{in}}(\\frac{T}{T_\\rm{in}})^{-11/3}B(E,T)$."
   ]
  },
  {
   "cell_type": "code",
   "execution_count": 3,
   "id": "1f89210d-719b-46c2-96ad-eeb408610830",
   "metadata": {},
   "outputs": [],
   "source": [
    "from scipy.integrate import quad\n",
    "\n",
    "def l_disk_integrand(self, T, E, T_in, spectral_radiance):\n",
    "    '''\n",
    "    parameters:\n",
    "        T, T_in in keV\n",
    "        E in keV\n",
    "\n",
    "    returns:\n",
    "        integrand in spectral radiance units/keV. This integrand will \n",
    "        be integrated over keV.\n",
    "    '''\n",
    "\n",
    "    integrand = (T/T_in)**(-11/3)*spectral_radiance(E, T)/T_in\n",
    "    return integrand\n",
    "\n",
    "def l_disk_integrated(self, E, T_in, T_out, spectral_radiance, epsrel):\n",
    "    '''\n",
    "    parameters:\n",
    "        T, T_in in keV\n",
    "        E in keV\n",
    "\n",
    "    returns:\n",
    "        disk luminosity [spectral radiance units]. \n",
    "    '''\n",
    "\n",
    "    integrated,_= quad(self.l_disk_integrand, T_out, T_in, args=(E, T_in, spectral_radiance), epsrel=epsrel)\n",
    "    return integrated"
   ]
  },
  {
   "cell_type": "markdown",
   "id": "b83010a4-0533-4596-806d-f97c2959634b",
   "metadata": {},
   "source": [
    "For clarity let's rewrite $f_\\rm{disk}$ in the way it is used in the code:\n",
    "\n",
    "$$f_\\rm{disk}(E) = \\frac{8 \\pi}{3} K_\\rm{disk} \\int_{T_\\rm{out}}^{T_\\rm{in}} l_\\rm{disk}(E,T) dT$$"
   ]
  },
  {
   "cell_type": "code",
   "execution_count": 4,
   "id": "fdc4d3ce-c4b5-4b8a-9acd-83158a369e1c",
   "metadata": {},
   "outputs": [],
   "source": [
    "k_B_over_keV = _k_B / _keV\n",
    "\n",
    "def get_f_disk(self, energies, spectral_radiance):\n",
    "    \"\"\" Evaluate f_disk(E). This function also requires the X-PSI parameters T_in and K_disk to be defined.\n",
    "    \n",
    "    Parameters\n",
    "    ----------\n",
    "    energies[keV]\n",
    "    \n",
    "    Returns\n",
    "    -------\n",
    "    f_disk [keV/s/cm^2/keV]\n",
    "    \n",
    "    \"\"\"\n",
    "    \n",
    "    T_in = self['T_in'] # in 10^T K\n",
    "    K_disk = self['K_disk'] # \n",
    "\n",
    "    T_in_keV = k_B_over_keV * pow(10.0, T_in)       \n",
    "    T_out_keV = T_in_keV*1e-1 # hardcode a factor 10 difference\n",
    "    \n",
    "    epsrel = 1e-4 # hardcode precision for integration\n",
    "\n",
    "    f_disk_array = np.array([])\n",
    "    for energy in energies:\n",
    "        f_disk_value = self.l_disk_integrated(energy, T_in_keV, T_out_keV, spectral_radiance, epsrel) \n",
    "        f_disk_array=np.append(f_disk_array,f_disk_value)\n",
    "    \n",
    "    f_disk_array *=K_disk*8*np.pi/3 # keV/s/cm^2/keV\n",
    "    \n",
    "    return f_disk_array"
   ]
  },
  {
   "cell_type": "markdown",
   "id": "b12b304b-7ded-49c3-9221-e943f59148f3",
   "metadata": {},
   "source": [
    "To obtain the photon flux for the disk instead of energy flux, one can divide $f_\\rm{disk}(E)$ by the photon energy. Let's collect these function into an X-PSI compatible class. With initiation of an instance of the class, we initiate the three X-PSI compatible parameters that control the accretion disk. When one calls the instance with an array of energies, photon flux at each energy is returned. "
   ]
  },
  {
   "cell_type": "code",
   "execution_count": 5,
   "id": "3731186d-5261-4f80-a7da-90119553cd92",
   "metadata": {},
   "outputs": [],
   "source": [
    "from xpsi.ParameterSubspace import ParameterSubspace\n",
    "from xpsi.Parameter import Parameter, Derive\n",
    "\n",
    "class Disk(ParameterSubspace):\n",
    "    \"\"\"\n",
    "    A class representing an accretion disk model compatible with the X-PSI framework.\n",
    "\n",
    "    This class initializes and manages three X-PSI-compatible parameters that describe \n",
    "    the physical properties of an accretion disk: the inner disk temperature, the inner \n",
    "    disk radius, and the disk normalization. Once instantiated, the class allows for \n",
    "    the computation of the photon flux at specified energy values.\n",
    "\n",
    "    Parameters\n",
    "    ----------\n",
    "    bounds : dict, optional\n",
    "        A dictionary specifying bounds for each parameter. Keys must include:\n",
    "        - 'T_in': Bounds for the logarithm (base 10) of the inner disk temperature in Kelvin.\n",
    "        - 'R_in': Bounds for the inner disk radius in kilometers.\n",
    "        - 'K_disk': Bounds for the disk normalization.\n",
    "        Default is None, which uses the strict bounds defined in the Parameter objects.\n",
    "    \n",
    "    values : dict, optional\n",
    "        A dictionary specifying initial values for each parameter. Keys must include:\n",
    "        - 'T_in': Initial value for the logarithm (base 10) of the inner disk temperature in Kelvin.\n",
    "        - 'R_in': Initial value for the inner disk radius in kilometers.\n",
    "        - 'K_disk': Initial value for the disk normalization.\n",
    "        Default is None, which sets no initial values.\n",
    "\n",
    "    Methods\n",
    "    -------\n",
    "    __call__(energies):\n",
    "        Computes and returns the photon flux in photons/s/cm^2/keV for the given array of energy\n",
    "        values in keV.\n",
    "\n",
    "    Attributes\n",
    "    ----------\n",
    "    inner_temperature : Parameter\n",
    "        The parameter representing the logarithm of the inner disk temperature in Kelvin.\n",
    "    inner_radius : Parameter\n",
    "        The parameter representing the inner disk radius in kilometers.\n",
    "    background_normalisation : Parameter\n",
    "        The parameter representing the disk normalization factor.\n",
    "    disk_flux : ndarray\n",
    "        The computed photon flux as a function of energy after calling the instance.\n",
    "\n",
    "    Notes\n",
    "    -----\n",
    "    - The `Disk` class is designed for compatibility with the X-PSI (X-ray spectral \n",
    "      fitting) framework, and the parameters follow X-PSI conventions.\n",
    "    - The photon flux is computed based on the provided energy array using the \n",
    "      Planck function, with scaling determined by the disk's physical parameters.\n",
    "    - The call function requires the functions B_E and get_f_disk which have been \n",
    "      defined above in this tutorial.\n",
    "\n",
    "    Example\n",
    "    -------\n",
    "    >>> bounds = {'T_in': (3., 10.), 'R_in': (0., 1e3), 'K_disk': (0., 1e100)}\n",
    "    >>> values = {'T_in': 6.5, 'R_in': 10., 'K_disk': 1e2}\n",
    "    >>> disk = Disk(bounds=bounds, values=values)\n",
    "    >>> energies = np.linspace(1, 10, 100)  # Example energy array\n",
    "    >>> flux = disk(energies)\n",
    "    >>> print(flux)\n",
    "    \"\"\"\n",
    "    \n",
    "    def __init__(self, bounds=None, values=None):\n",
    "\n",
    "        doc = \"\"\"\n",
    "        Temperature at inner disk radius in log10 Kelvin.\n",
    "        \"\"\"\n",
    "        inner_temperature = Parameter('T_in',\n",
    "                                strict_bounds = (3., 10.),\n",
    "                                bounds = bounds.get('T_in', None),\n",
    "                                doc = doc,\n",
    "                                symbol = r'$T_{in}$',\n",
    "                                value = values.get('T_in', None))\n",
    "\n",
    "        doc = \"\"\"\n",
    "        Disk R_in in kilometers.\n",
    "        \"\"\"\n",
    "        inner_radius = Parameter('R_in',\n",
    "                                strict_bounds = (0., 1e3),\n",
    "                                bounds = bounds.get('R_in', None),\n",
    "                                doc = doc,\n",
    "                                symbol = r'$R_{in}$',\n",
    "                                value = values.get('R_in', None))\n",
    "        \n",
    "        doc = \"\"\"\n",
    "        Disk normalisation cos_i*R_in^2/D^2.\n",
    "        \"\"\"\n",
    "        background_normalisation = Parameter('K_disk',\n",
    "                                strict_bounds = (0., 1e100),\n",
    "                                bounds = bounds.get('K_disk', None),\n",
    "                                doc = doc,\n",
    "                                symbol = r'$K_{BB}$',\n",
    "                                value = values.get('K_disk', None))\n",
    "        \n",
    "\n",
    "        super(Disk, self).__init__(inner_temperature, inner_radius, background_normalisation)\n",
    "\n",
    "\n",
    "    def __call__(self, energies):\n",
    "        self.disk_flux = self.get_f_disk(energies, self.spectral_radiance)/energies\n",
    "        return self.disk_flux\n",
    "\n",
    "Disk.spectral_radiance = B_E\n",
    "Disk.l_disk_integrand = l_disk_integrand\n",
    "Disk.l_disk_integrated = l_disk_integrated\n",
    "Disk.get_f_disk = get_f_disk"
   ]
  },
  {
   "cell_type": "markdown",
   "id": "87665870-b18b-4895-a3ff-e6aa9b7289fb",
   "metadata": {},
   "source": [
    "Let's now instantiate this class and use it to make a disk spectrum:"
   ]
  },
  {
   "cell_type": "code",
   "execution_count": 6,
   "id": "973cdc97-08cd-4be4-8038-7f1d68330094",
   "metadata": {},
   "outputs": [
    {
     "name": "stdout",
     "output_type": "stream",
     "text": [
      "Creating parameter:\n",
      "    > Named \"T_in\" with bounds [3.000e+00, 1.000e+01] and initial value 6.530e+00.\n",
      "    > Temperature at inner disk radius in log10 Kelvin.\n",
      "Creating parameter:\n",
      "    > Named \"R_in\" with bounds [0.000e+00, 1.000e+03] and initial value 5.500e+01.\n",
      "    > Disk R_in in kilometers.\n",
      "Creating parameter:\n",
      "    > Named \"K_disk\" with bounds [0.000e+00, 1.000e+100] and initial value 3.472e-37.\n",
      "    > Disk normalisation cos_i*R_in^2/D^2.\n"
     ]
    }
   ],
   "source": [
    "D = 1 #kpc\n",
    "cos_i = 1 #disk face on\n",
    "R_in = 55 # km\n",
    "T_in = 6.53 # log10(K) = 6.53 corresponds to 0.29 keV \n",
    "K_disk = get_k_disk(cos_i, D, R_in)\n",
    "\n",
    "bounds_example = {'T_in': (3., 10.), 'R_in': (0., 1e3), 'K_disk': (0., 1e100)}\n",
    "values_example = {'T_in': T_in, 'R_in': R_in, 'K_disk': K_disk}\n",
    "disk_example = Disk(bounds=bounds_example, values=values_example)\n",
    "\n",
    "energies_example = np.logspace(-1, 0, 100)  # Example energy array in keV\n",
    "flux_example = disk_example(energies_example)"
   ]
  },
  {
   "cell_type": "code",
   "execution_count": 7,
   "id": "b0fa1216-b510-493e-9e72-a93c4a95a072",
   "metadata": {},
   "outputs": [
    {
     "data": {
      "image/png": "[encoded data removed]",
      "text/plain": [
       "<Figure size 700x300 with 2 Axes>"
      ]
     },
     "metadata": {},
     "output_type": "display_data"
    },
    {
     "name": "stdout",
     "output_type": "stream",
     "text": [
      "Photons per second per cm^2: 0.000573\n"
     ]
    }
   ],
   "source": [
    "import matplotlib.pyplot as plt\n",
    "\n",
    "fig, ax = plt.subplots(1,2,figsize=(7,3))\n",
    "\n",
    "ax[0].loglog(energies_example, flux_example)\n",
    "ax[0].set_ylabel('Photon flux [photons/s/cm^2/keV]')\n",
    "ax[0].set_xlabel('Energies [keV]')\n",
    "ax[0].set_title(f'Photon flux at {D} kpc')\n",
    "\n",
    "ax[1].loglog(energies_example, flux_example*energies_example)\n",
    "ax[1].set_ylabel('Energy flux [keV/s/cm^2/keV]')\n",
    "ax[1].set_xlabel('Energies [keV]')\n",
    "ax[1].set_title(f'Energy flux at {D} kpc')\n",
    "\n",
    "fig.tight_layout()\n",
    "plt.show()\n",
    "\n",
    "print(f'Photons per second per cm^2: {np.sum(flux_example):.3g}')\n",
    "\n",
    "\n"
   ]
  },
  {
   "cell_type": "markdown",
   "id": "663e93bf-da5d-4444-bada-dce6e13e1ff1",
   "metadata": {},
   "source": [
    "## Simulating the flux of a neutron star along with an accretion disk\n",
    "\n",
    "Now that we have set up the disk model, let's combine its flux with that from a neutron star. We will set up a star with some parameters based on the well studied accreting millisecond X-ray pulsar SAX J1808.4-3658. Let's start with a regular spacetime."
   ]
  },
  {
   "cell_type": "code",
   "execution_count": 8,
   "id": "ea507c2a-22ba-4bf5-b7be-7214c1ed6427",
   "metadata": {},
   "outputs": [
    {
     "name": "stdout",
     "output_type": "stream",
     "text": [
      "Creating parameter:\n",
      "    > Named \"frequency\" with fixed value 4.010e+02.\n",
      "    > Spin frequency [Hz].\n",
      "Creating parameter:\n",
      "    > Named \"mass\" with bounds [1.000e+00, 3.000e+00].\n",
      "    > Gravitational mass [solar masses].\n",
      "Creating parameter:\n",
      "    > Named \"radius\" with bounds [4.430e+00, 1.600e+01].\n",
      "    > Coordinate equatorial radius [km].\n",
      "Creating parameter:\n",
      "    > Named \"distance\" with bounds [1.000e-01, 1.000e+00].\n",
      "    > Earth distance [kpc].\n",
      "Creating parameter:\n",
      "    > Named \"cos_inclination\" with bounds [0.000e+00, 1.000e+00].\n",
      "    > Cosine of Earth inclination to rotation axis.\n"
     ]
    }
   ],
   "source": [
    "from xpsi import Spacetime\n",
    "from xpsi.global_imports import gravradius\n",
    "\n",
    "bounds = dict(distance = (0.1, 1.0),                     # (Earth) distance\n",
    "                mass = (1.0, 3.0),                       # mass\n",
    "                radius = (3.0 * gravradius(1.0), 16.0),  # equatorial radius\n",
    "                cos_inclination = (0.0, 1.0))      # (Earth) inclination to rotation axis\n",
    "\n",
    "spacetime = Spacetime(bounds=bounds, values=dict(frequency=400.9752075))"
   ]
  },
  {
   "cell_type": "markdown",
   "id": "51e5f99c-8cfb-4af2-b178-28466df69c67",
   "metadata": {},
   "source": [
    "To keep this tutorial concise, we will import necessary custom classes rather than rewriting them verbatim. They were already set up for the example `TestRun_AMXP.py`, and we will import them from there. Nevertheless, we will describe and highlight notable special features of these custom classes. The first Custom class is the `CustomHotRegion_Accreting`, which provides hot regions that incorporate the Compton slab atmosphere (Bobrikova et al. 2023). This class accepts three atmosphere parameters: $t_\\rm{bb}$, $\\tau$, $t_\\rm{e}$. For this purpose the class function `_HotRegion__compute_cellParamVecs` is overwritten to accept three parameters instead of the standard two for rotation powered millisecond pulsars.\n",
    "\n",
    "Here we will use just one circular hot spot so we only have a primary. "
   ]
  },
  {
   "cell_type": "code",
   "execution_count": 9,
   "id": "6c7b0404-d2ad-4224-b3ff-6acbfb5f5097",
   "metadata": {},
   "outputs": [
    {
     "name": "stdout",
     "output_type": "stream",
     "text": [
      "Creating parameter:\n",
      "    > Named \"super_tbb\" with bounds [1.000e-03, 3.000e-03].\n",
      "    > tbb.\n",
      "Creating parameter:\n",
      "    > Named \"super_te\" with bounds [4.000e+01, 2.000e+02].\n",
      "    > te.\n",
      "Creating parameter:\n",
      "    > Named \"super_tau\" with bounds [5.000e-01, 3.500e+00].\n",
      "    > tau.\n",
      "The default/given atmosphere option is ignored, since using split=True, which only works with numerical 3+2D interpolation.\n",
      "Creating parameter:\n",
      "    > Named \"super_colatitude\" with bounds [0.000e+00, 3.142e+00].\n",
      "    > The colatitude of the centre of the superseding region [radians].\n",
      "Creating parameter:\n",
      "    > Named \"super_radius\" with bounds [0.000e+00, 1.571e+00].\n",
      "    > The angular radius of the (circular) superseding region [radians].\n",
      "Creating parameter:\n",
      "    > Named \"phase_shift\" with bounds [0.000e+00, 1.000e-01].\n",
      "    > The phase of the hot region, a periodic parameter [cycles].\n"
     ]
    }
   ],
   "source": [
    "import os\n",
    "import sys\n",
    "from pathlib import Path\n",
    "\n",
    "# Get the directory of the current notebook\n",
    "this_directory = str(Path().resolve())  # Resolves to the current working directory\n",
    "sys.path.append(this_directory + '/../../examples/examples_modeling_tutorial/modules/') \n",
    "\n",
    "from CustomHotRegion_Accreting import CustomHotRegion_Accreting\n",
    "\n",
    "\n",
    "bounds = dict(super_colatitude = (None, None),\n",
    "              super_radius = (None, None),\n",
    "              phase_shift = (0.0, 0.1),\n",
    "              super_tbb = (0.001, 0.003),\n",
    "              super_tau = (0.5, 3.5),\n",
    "              super_te = (40.0, 200.0))\n",
    "\n",
    "primary = CustomHotRegion_Accreting(bounds=bounds,\n",
    "                                    values={},\n",
    "                                    symmetry=True,\n",
    "                                    omit=False,\n",
    "                                    cede=False,\n",
    "                                    concentric=False,\n",
    "                                    sqrt_num_cells=50, #100\n",
    "                                    min_sqrt_num_cells=10,\n",
    "                                    max_sqrt_num_cells=64, #100\n",
    "                                    num_leaves=30,\n",
    "                                    num_rays=200,\n",
    "                                    split=True,\n",
    "                                    atm_ext='Num5D',\n",
    "                                    image_order_limit=3,\n",
    "                                    prefix='p')\n",
    "\n",
    "from xpsi import HotRegions\n",
    "hot = HotRegions((primary,))"
   ]
  },
  {
   "cell_type": "markdown",
   "id": "a749afbc-b441-4c66-91ae-db92bc903163",
   "metadata": {},
   "source": [
    "Before we continue with the photosphere, we must first modify the disk model slightly, such that the flux can be combined with the flux from a star. \n",
    "\n",
    "First we will multiply the disk flux with the distance squared in meters. This is to match the emission unit that X-PSI is expecting, which is the total photon emission rate per unit energy (keV). Later, if computing the registered counts, the combined emission (star and disk) will be divided by distance squared (in `Likelihood.py`) to recover the flux. \n",
    "\n",
    "We choose to make the modification in the previous function `k_disk`, which will imply this function no longer returns `k_disk`. This is convenient because the distance was one of the function arguments, so it is readily available."
   ]
  },
  {
   "cell_type": "code",
   "execution_count": 10,
   "id": "b244e879-7e3c-4c64-9e61-1f6cdfd9cb91",
   "metadata": {},
   "outputs": [],
   "source": [
    "def get_k_disk_distance_m_squared(cos_i, r_in, distance):\n",
    "    \"\"\"\n",
    "    This function calculates the k-disk value for a given set of input parameters.\n",
    "    \n",
    "    Parameters\n",
    "    ----------\n",
    "    cos_i: The cosine inclination angle of the disk\n",
    "    r_in: The inner radius of the disk in kilometers\n",
    "    distance: The distance to the disk (and star) in kiloparsecs\n",
    "    \n",
    "    Returns\n",
    "    -------\n",
    "    k_disk times the distance in meters squared\n",
    "    \n",
    "    \"\"\"\n",
    "\n",
    "    k_disk = cos_i * (r_in / (distance / 10))**2 # in [km/ 10 kpc]^2\n",
    "    \n",
    "    # K_disk is cos_i*R_in^2/D^2 in (km / 10 kpc)^2.\n",
    "    # (1 km / 10 kpc)^2 = 1.0502650e-35 [ cm/cm ]^2\n",
    "\n",
    "    k_disk *= 1.0502650e-35 # now k_disk is unitless\n",
    "\n",
    "    # multiplying k_disk by distance squared in meters to match signal units\n",
    "    distance_m = 3.08567758128e19*distance\n",
    "    k_disk_distance_m_squared = k_disk*distance_m**2\n",
    "\n",
    "    return k_disk_distance_m_squared "
   ]
  },
  {
   "cell_type": "markdown",
   "id": "d156e276-e2c3-4e84-b549-e2dbff7d0adb",
   "metadata": {},
   "source": [
    "Since `K_disk` is a parameter which depends solely other parameters, we use a new class to automatically derive it from those parameters. To achieve this we define a new class `k_disk_derive` which is a subclass of `xpsi.Derive`. By using the Derive functionality in X-PSI, we ensure the derived parameter is compatible with parameter sampling. "
   ]
  },
  {
   "cell_type": "code",
   "execution_count": 11,
   "id": "ae0b1b0c-5167-496b-94ec-2cc786e4e0cb",
   "metadata": {},
   "outputs": [],
   "source": [
    "class k_disk_derive(Derive):\n",
    "    def __init__(self):\n",
    "        pass\n",
    "\n",
    "    def __call__(self, boundto, caller=None):\n",
    "        # Ensure that self.star and self.disk are defined when we \n",
    "        # call an instance of this class. This ensures parameter \n",
    "        # values are passed along correctly.\n",
    "        return get_k_disk_distance_m_squared(\n",
    "            self.star['cos_inclination'], \n",
    "            self.disk['R_in'], \n",
    "            self.star['distance']\n",
    "        )\n"
   ]
  },
  {
   "cell_type": "code",
   "execution_count": 12,
   "id": "4b506346-af1b-40b4-9a18-eb80e0414d34",
   "metadata": {},
   "outputs": [
    {
     "name": "stdout",
     "output_type": "stream",
     "text": [
      "Creating parameter:\n",
      "    > Named \"T_in\" with bounds [3.000e+00, 1.000e+01] and initial value 6.530e+00.\n",
      "    > Temperature at inner disk radius in log10 Kelvin.\n",
      "Creating parameter:\n",
      "    > Named \"R_in\" with bounds [0.000e+00, 1.000e+03] and initial value 5.500e+01.\n",
      "    > Disk R_in in kilometers.\n",
      "Creating parameter:\n",
      "    > Named \"K_disk\" that is derived from ulterior variables.\n",
      "    > Disk normalisation cos_i*R_in^2/D^2.\n"
     ]
    }
   ],
   "source": [
    "k_disk = k_disk_derive()\n",
    "values_derive = {'T_in':T_in,'R_in':R_in,'K_disk': k_disk}\n",
    "bounds_example['K_disk'] = None # we must choose `None` here for the boundaries of the derived parameter. Having any boundaries here is not allowed and could cause conflicts.\n",
    "disk = Disk(bounds=bounds_example, values=values_derive)"
   ]
  },
  {
   "cell_type": "markdown",
   "id": "3380596b-67c9-4395-ace0-7ae68556818f",
   "metadata": {},
   "source": [
    "Now we are ready to create instantiate the custom photosphere. This photosphere accepts a new parameter in the `init` called `disk`, and then creates a private property called `_disk`. To `disk` we will pass the instance of the disk class. The spectrum of the disk will be added to the first time-invariant component of the signal (in this case the only component since we only have one hotspot) like so:\n",
    "\n",
    "```\n",
    "# add time-invariant component to first time-dependent component\n",
    "if self._disk is not None:\n",
    "    self.disk_spectrum = self._disk(energies)\n",
    "    for i in range(self._signal[0][0].shape[1]):\n",
    "    self._signal[0][0][:,i] += self.disk_spectrum\n",
    "```\n",
    "The time-dependent component here has some amount of phase bins (num_leaves) and we add up the disk emission to each component. There is no need to divide the disk emission by the number of phase bins here, which one may think of doing when distributing an emission component along some number of bins such that when summing back later together one conserves the full contribution one started with. The reason why is that the signal will make use of `gsl_interp_eval_integ` (in `synthesise.pyx`) when recording data of photon counts (per second). That function already accounts for phase intervals correctly in the sense that a constant signal with any number of phase bins will integrate up correctly within in phase interval [0,1] to the number one started with. If in any other situation one may be adding a constant component with some count rate to the time dependent count rate of a star (such as by considering it a `background`), one must take care to ensure that the distribution of counts over phase bins is correct.\n",
    "\n",
    "Another note is that we insert the disk into the `custom` argument of `xpsi.Photosphere` when calling the `super` function, which will make X-PSI aware of the disk parameters. One could add more components there in the future since custom can be a list of instances."
   ]
  },
  {
   "cell_type": "code",
   "execution_count": 13,
   "id": "df7764ce-17d7-4af1-8fd8-5b375766679c",
   "metadata": {},
   "outputs": [
    {
     "name": "stdout",
     "output_type": "stream",
     "text": [
      "Creating parameter:\n",
      "    > Named \"mode_frequency\" with fixed value 4.010e+02.\n",
      "    > Coordinate frequency of the mode of radiative asymmetry in the\n",
      "photosphere that is assumed to generate the pulsed signal [Hz].\n",
      "Creating parameter:\n",
      "    > Named \"mode_frequency\" with fixed value 4.010e+02.\n",
      "    > Coordinate frequency of the mode of radiative asymmetry in the\n",
      "photosphere that is assumed to generate the pulsed signal [Hz].\n"
     ]
    }
   ],
   "source": [
    "from CustomPhotosphere import CustomPhotosphere_NumA5\n",
    "from xpsi import Star\n",
    "\n",
    "photosphere = CustomPhotosphere_NumA5(hot = hot, elsewhere = None, stokes=False, disk=disk, bounds=None,\n",
    "                                values=dict(mode_frequency = spacetime['frequency']))\n",
    "\n",
    "photosphere.hot_atmosphere = this_directory+'/../../examples/examples_modeling_tutorial'+'/model_data/Bobrikova_compton_slab_I.npz'\n",
    "\n",
    "star = Star(spacetime = spacetime, photospheres = photosphere)"
   ]
  },
  {
   "cell_type": "markdown",
   "id": "2b6899d1-3503-4d19-8876-3d8957c5f2e1",
   "metadata": {},
   "source": [
    "Now that we have created the star instance, we can also connect the star (and the disk) to the derived `k_disk`"
   ]
  },
  {
   "cell_type": "code",
   "execution_count": 14,
   "id": "3e575d29-2544-4d68-88a2-668d1b73ab67",
   "metadata": {},
   "outputs": [],
   "source": [
    "k_disk.star = star\n",
    "k_disk.disk = disk"
   ]
  },
  {
   "cell_type": "markdown",
   "id": "2df73295-5470-44a1-a458-6ab90e0ab6a5",
   "metadata": {},
   "source": [
    "Now, we can make a SAX J1808-like parameter vector."
   ]
  },
  {
   "cell_type": "code",
   "execution_count": 15,
   "id": "f23ff14d-8929-414c-b5f5-5ad6a025c440",
   "metadata": {},
   "outputs": [],
   "source": [
    "import math\n",
    "\n",
    "# Star parameters\n",
    "mass = 1.4\n",
    "radius = 11.0\n",
    "distance = 2.7\n",
    "inclination = 80.\n",
    "cos_i = math.cos(inclination*math.pi/180.0)\n",
    "\n",
    "# Hotspot\n",
    "phase_shift = 0.226365126031355196E+00\n",
    "super_colatitude = 0.175993450466385537E+00\n",
    "super_radius = 30.*math.pi/180\n",
    "\n",
    "# Compton slab model parameters\n",
    "tbb=0.0025\n",
    "te=100.\n",
    "tau=2.0\n",
    "\n",
    "#Tbb = 1 keV <=> tbb = 0.002 (roughly)\n",
    "#Te = 50 keV <=>  te = 100 (roughly)\n",
    "\n",
    "p = [mass, #grav mass\n",
    "     radius, #coordinate equatorial radius\n",
    "     distance, # earth distance kpc\n",
    "     cos_i, #cosine of earth inclination\n",
    "     phase_shift, #phase of hotregion\n",
    "     super_colatitude, #colatitude of centre of superseding region\n",
    "     super_radius,  #angular radius superceding region\n",
    "     tbb,\n",
    "     te,\n",
    "     tau,\n",
    "     T_in,\n",
    "     R_in,\n",
    "    ]\n",
    "\n",
    "star(p)\n",
    "star.update()"
   ]
  },
  {
   "cell_type": "markdown",
   "id": "e799d401-a0eb-4701-858d-cf94c06aa644",
   "metadata": {},
   "source": [
    "We use `photosphere.integrate()`, to get the incident signal before interstellar absorption or interaction with the telescope."
   ]
  },
  {
   "cell_type": "code",
   "execution_count": 16,
   "id": "551b348c-ff3b-46d1-b663-456898d40b0a",
   "metadata": {},
   "outputs": [],
   "source": [
    "energies = np.logspace(np.log10(0.15), np.log10(12.0), 40, base=10.0)\n",
    "photosphere.integrate(energies, threads=1)\n",
    "StokesI = photosphere.signal[0][0]\n",
    "phases = np.linspace(0,1,30)"
   ]
  },
  {
   "cell_type": "code",
   "execution_count": 17,
   "id": "8ef1514b-2a78-4c70-8d25-4b5e4bdc1db5",
   "metadata": {},
   "outputs": [
    {
     "data": {
      "image/png": "[encoded data removed]",
      "text/plain": [
       "<Figure size 1000x300 with 4 Axes>"
      ]
     },
     "metadata": {},
     "output_type": "display_data"
    }
   ],
   "source": [
    "from matplotlib.colors import LogNorm\n",
    "\n",
    "fig, ax = plt.subplots(1, 2, figsize=(10, 3))\n",
    "\n",
    "profile = ax[0].pcolormesh(phases, energies, StokesI, shading='auto', \n",
    "                           norm=LogNorm(vmin=StokesI.min(), vmax=StokesI.max()))\n",
    "ax[0].set_yscale('log')\n",
    "ax[0].set_title('Photon emission in photons/s/cm^2*m^2') # the meters squared is related to the distance to recover flux, the centimeters squared is for the instrumental effective area\n",
    "ax[0].set_ylabel('photon energy (keV)')\n",
    "ax[0].set_xlabel('phase (cycles)')\n",
    "fig.colorbar(profile, ax=ax[0])\n",
    "\n",
    "profile = ax[1].pcolormesh(phases, energies, (energies * StokesI.T).T, shading='auto', \n",
    "                           norm=LogNorm(vmin=(energies * StokesI.T).T.min(), \n",
    "                                        vmax=(energies * StokesI.T).T.max()))\n",
    "ax[1].set_yscale('log')\n",
    "ax[1].set_title('(Photon) energy emission in keV/s/cm^2*m^2')\n",
    "ax[1].set_xlabel('phase (cycles)')\n",
    "fig.colorbar(profile, ax=ax[1], label=\"Logarithmic Scale\")\n",
    "\n",
    "plt.tight_layout()\n",
    "plt.show()"
   ]
  },
  {
   "cell_type": "markdown",
   "id": "b95b1a1b-22d6-4f3a-abb9-9c5754a281a9",
   "metadata": {},
   "source": [
    "For completeness, here is also the 1D spectrum separately. The star flux is averaged over phase."
   ]
  },
  {
   "cell_type": "code",
   "execution_count": 18,
   "id": "6adf1d3d-2798-40b1-9da3-c24e6810c75a",
   "metadata": {},
   "outputs": [
    {
     "data": {
      "image/png": "[encoded data removed]",
      "text/plain": [
       "<Figure size 640x480 with 1 Axes>"
      ]
     },
     "metadata": {},
     "output_type": "display_data"
    }
   ],
   "source": [
    "disk_flux_dist_sq = photosphere.disk_spectrum #m^2*photons/s/cm^2/keV\n",
    "star_flux_dist_sq = np.mean(photosphere.signal[0][0],axis=1)-disk_flux_dist_sq #subtracting disk from the total to retrieve star flux\n",
    "\n",
    "def unit_convert(F, distance):\n",
    "    # assuming the distance is in 10 kpc units, which we use to convert flux to photons/s/cm^2/keV,  3.08e19 is to convert kpc to meter\n",
    "    F_converted = F/(3.08567758128e19*distance)**2\n",
    "    return F_converted\n",
    "\n",
    "disk_flux = unit_convert(disk_flux_dist_sq, spacetime['distance'])\n",
    "star_flux = unit_convert(star_flux_dist_sq, spacetime['distance'])\n",
    "\n",
    "fig,ax = plt.subplots()\n",
    "\n",
    "ax.loglog(energies, energies*disk_flux, label='disk')\n",
    "ax.loglog(energies, energies*star_flux, label='star')\n",
    "ax.set_xlim([0.1,20])\n",
    "ax.set_ylim([1e-2, 1e0])\n",
    "ax.set_ylabel('Energy flux (keV/s/cm^2/KeV)')\n",
    "ax.set_xlabel('Energy (keV)')\n",
    "ax.legend()\n",
    "\n",
    "plt.show()"
   ]
  }
 ],
 "metadata": {
  "kernelspec": {
   "display_name": "Python 3 (ipykernel)",
   "language": "python",
   "name": "python3"
  },
  "language_info": {
   "codemirror_mode": {
    "name": "ipython",
    "version": 3
   },
   "file_extension": ".py",
   "mimetype": "text/x-python",
   "name": "python",
   "nbconvert_exporter": "python",
   "pygments_lexer": "ipython3",
   "version": "3.11.9"
  }
 },
 "nbformat": 4,
 "nbformat_minor": 5
}
