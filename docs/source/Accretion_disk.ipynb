{
 "cells": [
  {
   "cell_type": "markdown",
   "id": "98e5c7be-343b-420c-be9a-7635d3e2e506",
   "metadata": {},
   "source": [
    "# Accretion disk"
   ]
  },
  {
   "cell_type": "markdown",
   "id": "cd9d821a-344a-4190-b089-01cf1dd83f88",
   "metadata": {},
   "source": [
    "In this tutorial we will set up an accretion disk, which is a radiation source separate from the star, and add its contribution to the signal. The accretion disk we will use here (Mitsuda et al. 1984, Makishima et al. 1986) is a superposition of multicolor blackbody rings. It does not include relativistic effects and spectral hardening.\n",
    "\n",
    "## Setting up the disk model\n",
    "\n",
    "We follow here the description given by Makishima et al. (1986). The disk is parametrized by an inner cut-off radius, $R_\\rm{in}$, a temperature at this radius, $T_\\rm{in}$, and an outer radius, $R_\\rm{out}$. The outer rings will contribute much less to the X-ray spectrum than inner rings due to being much colder, so the exact value of $R_\\rm{out}$ is much less consequential than $R_\\rm{in}$. For each ring, the temperature at some radius $T(r)$ is determined by the (gravitational) energy release associated with accretion towards a central object of mass $M_*$. It is expressed as:\n",
    "\n",
    "$$T(r) = \\left(\\frac{3 G \\dot{M} M_*}{8 \\pi \\sigma r^3}\\right)^{1/4},$$\n",
    "\n",
    "where $G$ is the gravitational constant, $\\dot{M}$ is the accretion rate and $\\sigma$ is the Stefan-Boltzmann constant. The surface area $dA$ of an infinitesimal ring between between $r-dr$ and $r$ is given by $2 \\pi r dr$. The specific luminosity $dL_\\rm{ring}(E)$ (energy/time/energy) of two hemispheres becomes\n",
    "\n",
    "$$dL_\\rm{ring}(E) = 4 B(E,T(r)) dA \\int d\\Omega= 8 \\pi B(E,T(r)) r dr \\int d\\Omega = 8 \\pi^2 B(E,T(r)) r dr.$$ \n",
    "\n",
    "Here the integral of the solid angle over one hemisphere evaluates to $\\pi$. We multiply by 2 for the two sides of the disk and another factor of 2 appears since we define the $B(E, T)$, as half of the blackbody spectral radiance,  \n",
    "\n",
    "$$B(E,T) = \\frac{E^3}{c^2h^2}\\left[\\exp{\\left(\\frac{E}{k_\\rm{B}T}\\right)-1}\\right]^{-1}. $$\n",
    "\n",
    "Below we give the python definition of $B(E, T)$:"
   ]
  },
  {
   "cell_type": "code",
   "execution_count": 3,
   "id": "e6c887a5-8168-4455-ada5-287053266ca5",
   "metadata": {},
   "outputs": [],
   "source": [
    "def B_E(self, E, T):\n",
    "    '''\n",
    "    Half the energy radiance of a blackbody. If the the photon energy is much higher than kT, \n",
    "    the radiance is set to zero and ignores an error\n",
    "\n",
    "    parameters:\n",
    "        E in keV\n",
    "        T in keV\n",
    "\n",
    "    returns:\n",
    "        B_E in keV/s/keV/cm^2/sr (you will integrate over keV)\n",
    "    '''\n",
    "    with np.errstate(over='ignore'):\n",
    "        safe_ET = np.float128(E / T)\n",
    "        exp_safe_ET = np.exp(safe_ET)\n",
    "    B = np.where(np.isinf(exp_safe_ET), 0, E**3 / (_h_keV**3 * _c_cgs**2) / (exp_safe_ET - 1))\n",
    "    return B"
   ]
  },
  {
   "cell_type": "markdown",
   "id": "194a14db-3f7a-4d24-9ad7-d2302363bbdb",
   "metadata": {},
   "source": [
    "The specific flux of the disk $f_\\rm{disk}(E)$ (energy/time/length$^2$/energy) is the integral of the contribution of each ring from $R_\\rm{in}$ to $R_\\rm{out}$. But, this can be conveniently expressed as an integral over $dT$:\n",
    "\n",
    "\n",
    "$$f_\\rm{disk}(E) = \\frac{\\cos{i} \\int dL_\\rm{ring}}{4\\pi D^2}=\\frac{2 \\pi \\cos{i}}{D^2}\\int_{R_\\rm{in}}^{R_\\rm{out}} r B(E,T(r)) dr = \\frac{8\\pi R_\\rm{in}^2 \\cos{i}}{3 D^2 T_\\rm{in}}\\int_{T_\\rm{out}}^{T_\\rm{in}}\\Big(\\frac{T}{T_\\rm{in}}\\Big)^{-11/3}B(E,T) dT.$$\n",
    "\n",
    "Where $D$ is the distance and we introduced $\\cos{i}$ to scale the flux to account for the viewing angle."
   ]
  },
  {
   "cell_type": "code",
   "execution_count": 8,
   "id": "1f89210d-719b-46c2-96ad-eeb408610830",
   "metadata": {},
   "outputs": [],
   "source": [
    "    def get_f_disk(self, energies):\n",
    "        \"\"\" Evaluate f_disk(E).\n",
    "        \n",
    "        Parameters\n",
    "        ----------\n",
    "        energies[keV]\n",
    "        \n",
    "        Returns\n",
    "        -------\n",
    "        f_disk [keV/s/cm^2/keV]\n",
    "        \n",
    "        \"\"\"\n",
    "        \n",
    "        T_in = self['T_in']\n",
    "        K_disk = self['K_disk']\n",
    "\n",
    "        # KbT in keV\n",
    "        T_in_keV = k_B_over_keV * pow(10.0, T_in)\n",
    "        \n",
    "        T_out_keV = T_in_keV*1e-1\n",
    "        \n",
    "        epsrel = 1e-4\n",
    "\n",
    "        f_disk_array = np.array([]) #photons/s/cm^2/sr or keV/s/cm^2/sr \n",
    "        for energy in energies:\n",
    "            f_disk_value = self.l_disk(energy, T_in_keV, T_out_keV, spectral_radiance, epsrel) \n",
    "            f_disk_array=np.append(f_disk_array,f_disk_value)\n",
    "        \n",
    "        # K_disk is cos_i*R_in^2/D^2 in (km / 10 kpc)^2.\n",
    "        # (1 km / 10 kpc)^2 = 1.0502650e-35 [ cm/cm ]\n",
    "        \n",
    "        f_disk_array *=K_disk*8*np.pi/3*1.0502650e-35 # photons/s/cm^2/energy_bin\n",
    "        \n",
    "        #print(\"f_disk_array:\",f_disk_array)\n",
    "        #exit()\n",
    "        \n",
    "            # Apply Interstellar if not None\n",
    "        # if attenuate:\n",
    "        #     if self.interstellar is not None:\n",
    "        #         self.interstellar(energies, f_disk_array) # bkg is overwritten here\n",
    "        \n",
    "        return f_disk_array"
   ]
  },
  {
   "cell_type": "markdown",
   "id": "b12b304b-7ded-49c3-9221-e943f59148f3",
   "metadata": {},
   "source": [
    "Optionally, to obtain the bolometric flux (energy/length^2/time) of the disk one needs to integrate over energy:\n",
    "\n",
    "$$F_\\rm{disk} = \\int f_\\rm{disk}(E) dE.$$\n",
    "\n",
    "To obtain the photon flux for the disk instead of energy flux, one can divide $f_\\rm{disk}(E)$ by the photon energy."
   ]
  },
  {
   "cell_type": "code",
   "execution_count": null,
   "id": "3731186d-5261-4f80-a7da-90119553cd92",
   "metadata": {},
   "outputs": [],
   "source": []
  }
 ],
 "metadata": {
  "kernelspec": {
   "display_name": "Python 3 (ipykernel)",
   "language": "python",
   "name": "python3"
  },
  "language_info": {
   "codemirror_mode": {
    "name": "ipython",
    "version": 3
   },
   "file_extension": ".py",
   "mimetype": "text/x-python",
   "name": "python",
   "nbconvert_exporter": "python",
   "pygments_lexer": "ipython3",
   "version": "3.11.9"
  }
 },
 "nbformat": 4,
 "nbformat_minor": 5
}
