{
 "cells": [
  {
   "cell_type": "markdown",
   "id": "18588d9e",
   "metadata": {},
   "source": [
    "# Emitting Patterns 2D Projection"
   ]
  },
  {
   "cell_type": "markdown",
   "id": "129c6cad",
   "metadata": {},
   "source": [
    "In this tutorial we show how to use the 2D projection tool."
   ]
  },
  {
   "cell_type": "markdown",
   "id": "f7be9bc2",
   "metadata": {},
   "source": [
    "The function used below need the file ``xpsi/utilities/ProjectionTool.py``. <b>You can use this file and correspondent functions also without having  X-PSI installed. </b>"
   ]
  },
  {
   "cell_type": "code",
   "execution_count": 4,
   "id": "96c2b39d",
   "metadata": {},
   "outputs": [],
   "source": [
    "%matplotlib inline\n",
    "\n",
    "import os\n",
    "import numpy as np\n",
    "import math\n",
    "\n",
    "from matplotlib import pyplot as plt\n",
    "#from matplotlib import rcParams\n",
    "#from matplotlib.ticker import MultipleLocator, AutoLocator, AutoMinorLocator\n",
    "#from matplotlib import gridspec\n",
    "#from matplotlib import cm"
   ]
  },
  {
   "cell_type": "markdown",
   "id": "61915fb7",
   "metadata": {},
   "source": [
    "If you installed X-PSI, run the code below"
   ]
  },
  {
   "cell_type": "code",
   "execution_count": 11,
   "id": "21d6b1cb",
   "metadata": {},
   "outputs": [],
   "source": [
    "import xpsi\n",
    "from xpsi.utilities.ProjectionTool import plot_projection_general"
   ]
  },
  {
   "cell_type": "code",
   "execution_count": 10,
   "id": "3c41478e",
   "metadata": {},
   "outputs": [],
   "source": [
    "#Else run the code below \n",
    "#uncomment the line below and substitute <root> with your path to your local clone of the X-PSI git repository\n",
    "#!ln -s <root>/xpsi/utilities/ProjectionTool.py ."
   ]
  },
  {
   "cell_type": "code",
   "execution_count": null,
   "id": "9f9b5604",
   "metadata": {},
   "outputs": [],
   "source": []
  }
 ],
 "metadata": {
  "kernelspec": {
   "display_name": "Python 3 (ipykernel)",
   "language": "python",
   "name": "python3"
  },
  "language_info": {
   "codemirror_mode": {
    "name": "ipython",
    "version": 3
   },
   "file_extension": ".py",
   "mimetype": "text/x-python",
   "name": "python",
   "nbconvert_exporter": "python",
   "pygments_lexer": "ipython3",
   "version": "3.9.16"
  }
 },
 "nbformat": 4,
 "nbformat_minor": 5
}
