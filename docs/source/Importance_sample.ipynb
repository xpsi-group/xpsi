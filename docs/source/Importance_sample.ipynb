{
 "cells": [
  {
   "cell_type": "markdown",
   "id": "27b784b1",
   "metadata": {},
   "source": [
    "# Importance Sample"
   ]
  },
  {
   "cell_type": "markdown",
   "id": "aa0bd511",
   "metadata": {},
   "source": [
    "<h2>To come soon!</h2>"
   ]
  },
  {
   "cell_type": "code",
   "execution_count": null,
   "id": "74ff0ffb",
   "metadata": {},
   "outputs": [],
   "source": []
  }
 ],
 "metadata": {
  "kernelspec": {
   "display_name": "Python 3 (ipykernel)",
   "language": "python",
   "name": "python3"
  },
  "language_info": {
   "codemirror_mode": {
    "name": "ipython",
    "version": 3
   },
   "file_extension": ".py",
   "mimetype": "text/x-python",
   "name": "python",
   "nbconvert_exporter": "python",
   "pygments_lexer": "ipython3",
   "version": "3.9.16"
  }
 },
 "nbformat": 4,
 "nbformat_minor": 5
}
